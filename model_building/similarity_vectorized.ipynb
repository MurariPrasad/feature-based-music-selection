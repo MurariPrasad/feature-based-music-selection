{
  "nbformat": 4,
  "nbformat_minor": 0,
  "metadata": {
    "colab": {
      "provenance": []
    },
    "kernelspec": {
      "name": "python3",
      "display_name": "Python 3"
    },
    "language_info": {
      "name": "python"
    }
  },
  "cells": [
    {
      "cell_type": "markdown",
      "source": [
        "#### ***Paper Name:*** Feature Selection based Music Selection using Artificial Intelligence (Submitted to CONF-SEML 2023)\n",
        "\n",
        "***Authors:*** Murari Prasad, Apoorva Bordoloi, Hem Thumar, Manas Saloi, Deepanshu Joshi"
      ],
      "metadata": {
        "id": "PSofDkv6ENjC"
      }
    },
    {
      "cell_type": "code",
      "execution_count": null,
      "metadata": {
        "id": "pgUrLje_CaWC"
      },
      "outputs": [],
      "source": [
        "import matplotlib.pyplot as plt\n",
        "import numpy as np\n",
        "import pandas as pd\n",
        "import tensorflow as tf\n",
        "import os\n",
        "\n",
        "import cv2\n",
        "\n",
        "from tqdm import tqdm\n",
        "import joblib"
      ]
    },
    {
      "cell_type": "code",
      "source": [
        "from google.colab import drive\n",
        "drive.mount('/content/drive')"
      ],
      "metadata": {
        "colab": {
          "base_uri": "https://localhost:8080/"
        },
        "id": "plj68_ShCbp7",
        "outputId": "078f56f0-b6d3-42c6-cd99-da5c2a6033e8"
      },
      "execution_count": null,
      "outputs": [
        {
          "output_type": "stream",
          "name": "stdout",
          "text": [
            "Mounted at /content/drive\n"
          ]
        }
      ]
    },
    {
      "cell_type": "code",
      "source": [
        "encoder = tf.keras.models.load_model('/content/drive/MyDrive/GTZAN/vgg_enc_final_h5', compile=False)\n",
        "decoder = tf.keras.models.load_model('/content/drive/MyDrive/GTZAN/vgg_dec_final_h5', compile=False)"
      ],
      "metadata": {
        "id": "w0QNUMq0Cbnh"
      },
      "execution_count": null,
      "outputs": []
    },
    {
      "cell_type": "code",
      "source": [
        "joblib.dump(encoder, '/content/drive/MyDrive/encoder2.pkl')\n",
        "joblib.dump(decoder, '/content/drive/MyDrive/decoder2.pkl')"
      ],
      "metadata": {
        "id": "Ce4kxz9lezOH"
      },
      "execution_count": null,
      "outputs": []
    },
    {
      "cell_type": "code",
      "source": [
        "\"\"\"  224 x 224 x 3 actual \"\"\"\n",
        "\n",
        "data_dir = 'drive/MyDrive/GTZAN/mel_spec_padded_vgg/'\n",
        "\n",
        "images = []\n",
        "labels = []\n",
        "for path,_,files in os.walk(data_dir):\n",
        "    for name in files:\n",
        "        temp = cv2.imread(os.path.join(path, name), cv2.IMREAD_UNCHANGED)\n",
        "        images.append(np.array(cv2.cvtColor(temp, cv2.COLOR_BGRA2BGR)))\n",
        "        labels.append(name)"
      ],
      "metadata": {
        "id": "Cei7QUf1CblO"
      },
      "execution_count": null,
      "outputs": []
    },
    {
      "cell_type": "code",
      "source": [
        "img_arrays = np.array(images)\n",
        "img_arrays = img_arrays / 255.0"
      ],
      "metadata": {
        "id": "nGAtp1xoCbim"
      },
      "execution_count": null,
      "outputs": []
    },
    {
      "cell_type": "code",
      "source": [
        "# encoded_1 = encoder(img_arrays[0][np.newaxis,:,:,:]).numpy()\n",
        "# encoded_2 = encoder(img_arrays[867][np.newaxis,:,:,:]).numpy()\n",
        "\n",
        "# vec1 = encoded_1.flatten('F')\n",
        "# vec2 = encoded_2.flatten('F')"
      ],
      "metadata": {
        "id": "NHtwYutuCbgJ"
      },
      "execution_count": null,
      "outputs": []
    },
    {
      "cell_type": "code",
      "source": [
        "encodings_t1 = encoder(img_arrays[:250])"
      ],
      "metadata": {
        "id": "1NA6ZWCfRdJT"
      },
      "execution_count": null,
      "outputs": []
    },
    {
      "cell_type": "code",
      "source": [
        "encodings_t1.numpy().reshape(250,7*7*512)[:2].shape"
      ],
      "metadata": {
        "colab": {
          "base_uri": "https://localhost:8080/"
        },
        "id": "wp-yxusjSgOn",
        "outputId": "9c021016-1bd6-4877-afbb-45fa2324388b"
      },
      "execution_count": null,
      "outputs": [
        {
          "output_type": "execute_result",
          "data": {
            "text/plain": [
              "(2, 25088)"
            ]
          },
          "metadata": {},
          "execution_count": 18
        }
      ]
    },
    {
      "cell_type": "code",
      "source": [
        "import math \n",
        "import torch\n",
        "\n",
        "def cos_sim(v):\n",
        "    v_inner = inner_product(v)\n",
        "    v_size = vec_size(v)\n",
        "    v_cos = v_inner / torch.mm(v_size, v_size.t())\n",
        "    return v_cos\n",
        "\n",
        "def vec_size(v):\n",
        "    return v.norm(dim=-1, keepdim=True)\n",
        "\n",
        "def inner_product(v):\n",
        "    return torch.mm(v, v.t())\n",
        "\n",
        "def euclidean_dist(v, eps=1e-10):\n",
        "    v_norm = (v**2).sum(-1, keepdim=True)\n",
        "    dist = v_norm + v_norm.t() - 2.0 * torch.mm(v, v.t())\n",
        "    dist = torch.sqrt(torch.abs(dist) + eps)\n",
        "    return dist\n",
        "\n",
        "def theta(v, eps=1e-5):\n",
        "    v_cos = cos_sim(v).clamp(-1. + eps, 1. - eps)\n",
        "    x = torch.acos(v_cos) + math.radians(10)\n",
        "    return x\n",
        "\n",
        "def triangle(v):\n",
        "    theta_ = theta(v)\n",
        "    theta_rad = theta_ * math.pi / 180.\n",
        "    vs = vec_size(v)\n",
        "    x = (vs.mm(vs.t())) * torch.sin(theta_rad)\n",
        "    return x / 2.\n",
        "\n",
        "def magnitude_dif(v):\n",
        "    vs = vec_size(v)\n",
        "    return (vs - vs.t()).abs()\n",
        "\n",
        "def sector(v):\n",
        "    ed = euclidean_dist(v)\n",
        "    md = magnitude_dif(v)\n",
        "    sec = math.pi * torch.pow((ed + md), 2) * theta(v)/360.\n",
        "    return sec\n",
        "\n",
        "def ts_ss(v):\n",
        "    tri = triangle(v)\n",
        "    sec = sector(v)\n",
        "    return tri * sec\n",
        "\n",
        "def ts_ss_(v, eps=1e-30, eps2=1e-30):\n",
        "    # upper ts_ss seems to work... why this dont know\n",
        "    # reusable compute\n",
        "    v_inner = torch.mm(v, v.t())\n",
        "    vs = v.norm(dim=-1, keepdim=True)\n",
        "    vs_dot = vs.mm(vs.t())\n",
        "\n",
        "    # compute triangle(v)\n",
        "    v_cos = v_inner / vs_dot\n",
        "    v_cos = v_cos.clamp(-1. + eps2, 1. - eps2)  # clamp to avoid backprop instability\n",
        "    theta_ = torch.acos(v_cos) + math.radians(10)\n",
        "    theta_rad = theta_ * math.pi / 180.\n",
        "    tri = (vs_dot * torch.sin(theta_rad)) / 2.\n",
        "\n",
        "    # compute sector(v)\n",
        "    v_norm = (v ** 2).sum(-1, keepdim=True)\n",
        "    euc_dist = v_norm + v_norm.t() - 2.0 * v_inner\n",
        "    euc_dist = torch.sqrt(torch.abs(euc_dist) + eps)  # add epsilon to avoid srt(0.)\n",
        "    magnitude_diff = (vs - vs.t()).abs()\n",
        "    sec = math.pi * (euc_dist + magnitude_diff) ** 2 * theta_ / 360.\n",
        "\n",
        "    return tri * sec\n",
        "    \n"
      ],
      "metadata": {
        "id": "hpWcufYuEGPi"
      },
      "execution_count": null,
      "outputs": []
    },
    {
      "cell_type": "code",
      "source": [
        "# vec1 = [1.0,2.0]\n",
        "# vec2 = [1.0,2.0]\n",
        "# vec3 = [3.0,4.0]\n",
        "# vec4 = [33.0,44.0]\n",
        "v = torch.tensor(encodings_t1.numpy().reshape(250,7*7*512)[:10].astype('float64'))\n",
        "\n",
        "# print(euclidean_dist(v))\n",
        "# print(cos_sim(v))\n",
        "print(ts_ss(v))\n",
        "print(ts_ss_(v))\n",
        "s = ts_ss_(v)[1]"
      ],
      "metadata": {
        "colab": {
          "base_uri": "https://localhost:8080/"
        },
        "id": "WbY7-HshPRLy",
        "outputId": "1b4e0fdb-c1a8-4dae-c223-866be5fad331"
      },
      "execution_count": null,
      "outputs": [
        {
          "output_type": "stream",
          "name": "stdout",
          "text": [
            "tensor([[1.9265e-11, 1.8012e+06, 1.6890e+06, 6.7719e+05, 4.2794e+06, 2.7000e+06,\n",
            "         3.6339e+06, 1.6234e+06, 2.6431e+06, 3.1536e+06],\n",
            "        [1.8012e+06, 3.2636e-11, 1.7803e+06, 1.9051e+06, 5.4809e+06, 2.8207e+06,\n",
            "         4.5353e+06, 2.9595e+06, 3.3968e+06, 4.1065e+06],\n",
            "        [1.6890e+06, 1.7803e+06, 3.9557e-11, 1.3967e+06, 3.3579e+06, 2.2362e+06,\n",
            "         3.9147e+06, 2.5196e+06, 2.2719e+06, 3.7443e+06],\n",
            "        [6.7719e+05, 1.9051e+06, 1.3967e+06, 2.8532e-11, 4.5805e+06, 1.6569e+06,\n",
            "         4.0145e+06, 2.0218e+06, 3.0471e+06, 3.6542e+06],\n",
            "        [4.2794e+06, 5.4809e+06, 3.3579e+06, 4.5805e+06, 1.0050e-10, 4.6348e+06,\n",
            "         4.9272e+06, 5.9011e+06, 4.0460e+06, 4.9815e+06],\n",
            "        [2.7000e+06, 2.8207e+06, 2.2362e+06, 1.6569e+06, 4.6348e+06, 5.8069e-11,\n",
            "         4.4158e+06, 4.2115e+06, 3.7833e+06, 4.2952e+06],\n",
            "        [3.6339e+06, 4.5353e+06, 3.9147e+06, 4.0145e+06, 4.9272e+06, 4.4158e+06,\n",
            "         6.3902e-11, 3.7424e+06, 3.2819e+06, 4.3468e+06],\n",
            "        [1.6234e+06, 2.9595e+06, 2.5196e+06, 2.0218e+06, 5.9011e+06, 4.2115e+06,\n",
            "         3.7424e+06, 4.1870e-11, 3.7288e+06, 4.0314e+06],\n",
            "        [2.6431e+06, 3.3968e+06, 2.2719e+06, 3.0471e+06, 4.0460e+06, 3.7833e+06,\n",
            "         3.2819e+06, 3.7288e+06, 3.6222e-11, 3.9776e+06],\n",
            "        [3.1536e+06, 4.1065e+06, 3.7443e+06, 3.6542e+06, 4.9815e+06, 4.2952e+06,\n",
            "         4.3468e+06, 4.0314e+06, 3.9776e+06, 3.9029e-11]], dtype=torch.float64)\n",
            "tensor([[4.1286e-12, 1.8012e+06, 1.6890e+06, 6.7719e+05, 4.2794e+06, 2.7000e+06,\n",
            "         3.6339e+06, 1.6234e+06, 2.6431e+06, 3.1536e+06],\n",
            "        [1.8012e+06, 3.1026e-31, 1.7803e+06, 1.9051e+06, 5.4809e+06, 2.8207e+06,\n",
            "         4.5353e+06, 2.9595e+06, 3.3968e+06, 4.1065e+06],\n",
            "        [1.6890e+06, 1.7803e+06, 8.4772e-12, 1.3967e+06, 3.3579e+06, 2.2362e+06,\n",
            "         3.9147e+06, 2.5196e+06, 2.2719e+06, 3.7443e+06],\n",
            "        [6.7719e+05, 1.9051e+06, 1.3967e+06, 6.1146e-12, 4.5805e+06, 1.6569e+06,\n",
            "         4.0145e+06, 2.0218e+06, 3.0471e+06, 3.6542e+06],\n",
            "        [4.2794e+06, 5.4809e+06, 3.3579e+06, 4.5805e+06, 5.1396e-11, 4.6348e+06,\n",
            "         4.9272e+06, 5.9011e+06, 4.0460e+06, 4.9815e+06],\n",
            "        [2.7000e+06, 2.8207e+06, 2.2362e+06, 1.6569e+06, 4.6348e+06, 2.0311e-11,\n",
            "         4.4158e+06, 4.2115e+06, 3.7833e+06, 4.2952e+06],\n",
            "        [3.6339e+06, 4.5353e+06, 3.9147e+06, 4.0145e+06, 4.9272e+06, 4.4158e+06,\n",
            "         2.2351e-11, 3.7424e+06, 3.2819e+06, 4.3468e+06],\n",
            "        [1.6234e+06, 2.9595e+06, 2.5196e+06, 2.0218e+06, 5.9011e+06, 4.2115e+06,\n",
            "         3.7424e+06, 1.4645e-11, 3.7288e+06, 4.0314e+06],\n",
            "        [2.6431e+06, 3.3968e+06, 2.2719e+06, 3.0471e+06, 4.0460e+06, 3.7833e+06,\n",
            "         3.2819e+06, 3.7288e+06, 3.4435e-31, 3.9776e+06],\n",
            "        [3.1536e+06, 4.1065e+06, 3.7443e+06, 3.6542e+06, 4.9815e+06, 4.2952e+06,\n",
            "         4.3468e+06, 4.0314e+06, 3.9776e+06, 3.7103e-31]], dtype=torch.float64)\n"
          ]
        }
      ]
    },
    {
      "cell_type": "code",
      "source": [
        "s.detach().cpu().numpy().copy()"
      ],
      "metadata": {
        "colab": {
          "base_uri": "https://localhost:8080/"
        },
        "id": "uYXg6QLFMaCN",
        "outputId": "483ae758-d039-4a53-a1d4-bb3be77164fd"
      },
      "execution_count": null,
      "outputs": [
        {
          "output_type": "execute_result",
          "data": {
            "text/plain": [
              "array([[6.19295296e-12, 1.80122215e+06, 1.68900903e+06],\n",
              "       [1.80122215e+06, 3.10256282e-31, 1.78025455e+06],\n",
              "       [1.68900903e+06, 1.78025455e+06, 8.47723352e-12]])"
            ]
          },
          "metadata": {},
          "execution_count": 26
        }
      ]
    },
    {
      "cell_type": "code",
      "source": [],
      "metadata": {
        "id": "zhTqLvKsb9SV"
      },
      "execution_count": null,
      "outputs": []
    },
    {
      "cell_type": "code",
      "source": [],
      "metadata": {
        "id": "UbSMbZzQb9Pt"
      },
      "execution_count": null,
      "outputs": []
    },
    {
      "cell_type": "code",
      "source": [],
      "metadata": {
        "id": "EHYiX7q4b9NS"
      },
      "execution_count": null,
      "outputs": []
    },
    {
      "cell_type": "code",
      "source": [],
      "metadata": {
        "id": "JL9YRsPWb9K0"
      },
      "execution_count": null,
      "outputs": []
    },
    {
      "cell_type": "code",
      "source": [],
      "metadata": {
        "id": "FqQfhJGKb9IS"
      },
      "execution_count": null,
      "outputs": []
    },
    {
      "cell_type": "code",
      "source": [],
      "metadata": {
        "id": "Q3b7rZ5gPfgl"
      },
      "execution_count": null,
      "outputs": []
    }
  ]
}