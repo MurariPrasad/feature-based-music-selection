{
  "nbformat": 4,
  "nbformat_minor": 0,
  "metadata": {
    "colab": {
      "provenance": []
    },
    "kernelspec": {
      "name": "python3",
      "display_name": "Python 3"
    },
    "language_info": {
      "name": "python"
    },
    "accelerator": "GPU",
    "gpuClass": "standard"
  },
  "cells": [
    {
      "cell_type": "markdown",
      "source": [
        "#### ***Paper Name:*** Feature Selection based Music Selection using Artificial Intelligence (Submitted to CONF-SEML 2023)\n",
        "\n",
        "***Authors:*** Murari Prasad, Apoorva Bordoloi, Hem Thumar, Manas Saloi, Deepanshu Joshi"
      ],
      "metadata": {
        "id": "VaXXtigIDzhY"
      }
    },
    {
      "cell_type": "code",
      "execution_count": null,
      "metadata": {
        "id": "vBCpw9a9lxNJ"
      },
      "outputs": [],
      "source": [
        "import matplotlib.pyplot as plt\n",
        "import numpy as np\n",
        "import pandas as pd\n",
        "import tensorflow as tf\n",
        "import os\n",
        "\n",
        "import cv2\n",
        "\n",
        "from sklearn.model_selection import train_test_split\n",
        "from tensorflow.keras import layers, losses\n",
        "from tensorflow.keras.models import Model, Sequential"
      ]
    },
    {
      "cell_type": "code",
      "source": [
        "tf.config.list_physical_devices(\"GPU\")"
      ],
      "metadata": {
        "colab": {
          "base_uri": "https://localhost:8080/"
        },
        "id": "mW9rkH9hl5XZ",
        "outputId": "ba26b99f-131c-4d54-c8d0-b293b74d3a49"
      },
      "execution_count": null,
      "outputs": [
        {
          "output_type": "execute_result",
          "data": {
            "text/plain": [
              "[PhysicalDevice(name='/physical_device:GPU:0', device_type='GPU')]"
            ]
          },
          "metadata": {},
          "execution_count": 3
        }
      ]
    },
    {
      "cell_type": "code",
      "source": [
        "tf.device('/GPU:0')"
      ],
      "metadata": {
        "colab": {
          "base_uri": "https://localhost:8080/"
        },
        "id": "bQkI6tEPl5VH",
        "outputId": "ee41f901-a6d5-4627-c8d2-8e3bc5b012fb"
      },
      "execution_count": null,
      "outputs": [
        {
          "output_type": "execute_result",
          "data": {
            "text/plain": [
              "<tensorflow.python.eager.context._EagerDeviceContext at 0x7faa774b7ac0>"
            ]
          },
          "metadata": {},
          "execution_count": 4
        }
      ]
    },
    {
      "cell_type": "code",
      "source": [
        "from google.colab import drive"
      ],
      "metadata": {
        "id": "ER499zHZ_7MQ"
      },
      "execution_count": null,
      "outputs": []
    },
    {
      "cell_type": "code",
      "source": [
        "drive.mount('/content/gdrive/')"
      ],
      "metadata": {
        "colab": {
          "base_uri": "https://localhost:8080/"
        },
        "id": "oTetjfh3AHzE",
        "outputId": "348404dd-5885-46d8-a6fb-929127fb3f1d"
      },
      "execution_count": null,
      "outputs": [
        {
          "output_type": "stream",
          "name": "stdout",
          "text": [
            "Drive already mounted at /content/gdrive/; to attempt to forcibly remount, call drive.mount(\"/content/gdrive/\", force_remount=True).\n"
          ]
        }
      ]
    },
    {
      "cell_type": "code",
      "source": [
        "\"\"\"  224 x 224 x 3 actual \"\"\"\n",
        "\n",
        "data_dir = 'drive/MyDrive/GTZAN/mel_spec_padded_vgg/'\n",
        "\n",
        "images = []\n",
        "labels = []\n",
        "for path,_,files in os.walk(data_dir):\n",
        "    for name in files:\n",
        "        temp = cv2.imread(os.path.join(path, name), cv2.IMREAD_UNCHANGED)\n",
        "        images.append(np.array(cv2.cvtColor(temp, cv2.COLOR_BGRA2BGR)))\n",
        "        labels.append(name)"
      ],
      "metadata": {
        "id": "_8hzD7Xol5Su"
      },
      "execution_count": null,
      "outputs": []
    },
    {
      "cell_type": "code",
      "source": [
        "\"\"\"  224 x 224 x 3 actual \"\"\"\n",
        "\n",
        "data_dir = '/content/gdrive/MyDrive/GTZAN/mel_spec_padded_vgg'\n",
        "\n",
        "images = []\n",
        "labels = []\n",
        "for path,_,files in os.walk(data_dir):\n",
        "    for name in files:\n",
        "        temp = cv2.imread(os.path.join(path, name), cv2.IMREAD_UNCHANGED)\n",
        "        images.append(np.array(cv2.cvtColor(temp, cv2.COLOR_BGRA2BGR)))\n",
        "        labels.append(name)"
      ],
      "metadata": {
        "id": "ASIOzOp3Ctv8"
      },
      "execution_count": null,
      "outputs": []
    },
    {
      "cell_type": "code",
      "source": [
        "print(labels[100])\n",
        "plt.imshow(tf.squeeze(images[100]))"
      ],
      "metadata": {
        "colab": {
          "base_uri": "https://localhost:8080/",
          "height": 305
        },
        "id": "6y9zLbDrl5Qi",
        "outputId": "60c02357-d03a-4584-fb36-d4b5ea76a278"
      },
      "execution_count": null,
      "outputs": [
        {
          "output_type": "stream",
          "name": "stdout",
          "text": [
            "classical00000.png\n"
          ]
        },
        {
          "output_type": "execute_result",
          "data": {
            "text/plain": [
              "<matplotlib.image.AxesImage at 0x7f4b38183790>"
            ]
          },
          "metadata": {},
          "execution_count": 19
        },
        {
          "output_type": "display_data",
          "data": {
            "text/plain": [
              "<Figure size 432x288 with 1 Axes>"
            ],
            "image/png": "[encoded data removed]"
          },
          "metadata": {
            "needs_background": "light"
          }
        }
      ]
    },
    {
      "cell_type": "code",
      "source": [
        "train_x, test_x, _ , _ = train_test_split(images, [0 for _ in range(1000)], test_size=0.1, shuffle=True, random_state=42)"
      ],
      "metadata": {
        "id": "vyU_vrpsl5OA"
      },
      "execution_count": null,
      "outputs": []
    },
    {
      "cell_type": "code",
      "source": [
        "train_x = np.array(train_x)\n",
        "test_x = np.array(test_x)\n",
        "\n",
        "train_x = train_x / 255.0\n",
        "test_x = test_x / 255.0"
      ],
      "metadata": {
        "id": "IW3Yy9zkl5Lr"
      },
      "execution_count": null,
      "outputs": []
    },
    {
      "cell_type": "code",
      "source": [
        "X_tensor = tf.convert_to_tensor(train_x)\n",
        "test_tensor = tf.convert_to_tensor(test_x)"
      ],
      "metadata": {
        "id": "LpgIsC22l5I7"
      },
      "execution_count": null,
      "outputs": []
    },
    {
      "cell_type": "code",
      "source": [
        "X_tensor.shape"
      ],
      "metadata": {
        "colab": {
          "base_uri": "https://localhost:8080/"
        },
        "id": "SJb7Qh-Yl5DL",
        "outputId": "46ebcf21-b1d9-4939-f094-ad70ceb7d679"
      },
      "execution_count": null,
      "outputs": [
        {
          "output_type": "execute_result",
          "data": {
            "text/plain": [
              "TensorShape([900, 224, 224, 3])"
            ]
          },
          "metadata": {},
          "execution_count": 23
        }
      ]
    },
    {
      "cell_type": "code",
      "source": [
        "test_tensor.shape"
      ],
      "metadata": {
        "colab": {
          "base_uri": "https://localhost:8080/"
        },
        "id": "TES81LA_nUps",
        "outputId": "aaba92d9-f32d-4538-88b0-8959575b44f0"
      },
      "execution_count": null,
      "outputs": [
        {
          "output_type": "execute_result",
          "data": {
            "text/plain": [
              "TensorShape([100, 224, 224, 3])"
            ]
          },
          "metadata": {},
          "execution_count": 24
        }
      ]
    },
    {
      "cell_type": "code",
      "source": [],
      "metadata": {
        "id": "0iECXU6jnVvy"
      },
      "execution_count": null,
      "outputs": []
    },
    {
      "cell_type": "markdown",
      "source": [
        "#### Model Building"
      ],
      "metadata": {
        "id": "xgvBQfmunYoL"
      }
    },
    {
      "cell_type": "code",
      "source": [
        "from keras.applications.vgg19 import VGG19"
      ],
      "metadata": {
        "id": "5juyjt-Jna-J"
      },
      "execution_count": null,
      "outputs": []
    },
    {
      "cell_type": "code",
      "source": [],
      "metadata": {
        "id": "s5vg9lLc8mSk"
      },
      "execution_count": null,
      "outputs": []
    },
    {
      "cell_type": "code",
      "source": [
        "vgg = VGG19()\n",
        "vgg.summary()"
      ],
      "metadata": {
        "id": "7GLoKslxnc3n",
        "colab": {
          "base_uri": "https://localhost:8080/"
        },
        "outputId": "73930bd2-95ec-4b65-a79a-a568f0bf193f"
      },
      "execution_count": null,
      "outputs": [
        {
          "output_type": "stream",
          "name": "stdout",
          "text": [
            "Downloading data from https://storage.googleapis.com/tensorflow/keras-applications/vgg19/vgg19_weights_tf_dim_ordering_tf_kernels.h5\n",
            "574710816/574710816 [==============================] - 3s 0us/step\n",
            "Model: \"vgg19\"\n",
            "_________________________________________________________________\n",
            " Layer (type)                Output Shape              Param #   \n",
            "=================================================================\n",
            " input_1 (InputLayer)        [(None, 224, 224, 3)]     0         \n",
            "                                                                 \n",
            " block1_conv1 (Conv2D)       (None, 224, 224, 64)      1792      \n",
            "                                                                 \n",
            " block1_conv2 (Conv2D)       (None, 224, 224, 64)      36928     \n",
            "                                                                 \n",
            " block1_pool (MaxPooling2D)  (None, 112, 112, 64)      0         \n",
            "                                                                 \n",
            " block2_conv1 (Conv2D)       (None, 112, 112, 128)     73856     \n",
            "                                                                 \n",
            " block2_conv2 (Conv2D)       (None, 112, 112, 128)     147584    \n",
            "                                                                 \n",
            " block2_pool (MaxPooling2D)  (None, 56, 56, 128)       0         \n",
            "                                                                 \n",
            " block3_conv1 (Conv2D)       (None, 56, 56, 256)       295168    \n",
            "                                                                 \n",
            " block3_conv2 (Conv2D)       (None, 56, 56, 256)       590080    \n",
            "                                                                 \n",
            " block3_conv3 (Conv2D)       (None, 56, 56, 256)       590080    \n",
            "                                                                 \n",
            " block3_conv4 (Conv2D)       (None, 56, 56, 256)       590080    \n",
            "                                                                 \n",
            " block3_pool (MaxPooling2D)  (None, 28, 28, 256)       0         \n",
            "                                                                 \n",
            " block4_conv1 (Conv2D)       (None, 28, 28, 512)       1180160   \n",
            "                                                                 \n",
            " block4_conv2 (Conv2D)       (None, 28, 28, 512)       2359808   \n",
            "                                                                 \n",
            " block4_conv3 (Conv2D)       (None, 28, 28, 512)       2359808   \n",
            "                                                                 \n",
            " block4_conv4 (Conv2D)       (None, 28, 28, 512)       2359808   \n",
            "                                                                 \n",
            " block4_pool (MaxPooling2D)  (None, 14, 14, 512)       0         \n",
            "                                                                 \n",
            " block5_conv1 (Conv2D)       (None, 14, 14, 512)       2359808   \n",
            "                                                                 \n",
            " block5_conv2 (Conv2D)       (None, 14, 14, 512)       2359808   \n",
            "                                                                 \n",
            " block5_conv3 (Conv2D)       (None, 14, 14, 512)       2359808   \n",
            "                                                                 \n",
            " block5_conv4 (Conv2D)       (None, 14, 14, 512)       2359808   \n",
            "                                                                 \n",
            " block5_pool (MaxPooling2D)  (None, 7, 7, 512)         0         \n",
            "                                                                 \n",
            " flatten (Flatten)           (None, 25088)             0         \n",
            "                                                                 \n",
            " fc1 (Dense)                 (None, 4096)              102764544 \n",
            "                                                                 \n",
            " fc2 (Dense)                 (None, 4096)              16781312  \n",
            "                                                                 \n",
            " predictions (Dense)         (None, 1000)              4097000   \n",
            "                                                                 \n",
            "=================================================================\n",
            "Total params: 143,667,240\n",
            "Trainable params: 143,667,240\n",
            "Non-trainable params: 0\n",
            "_________________________________________________________________\n"
          ]
        }
      ]
    },
    {
      "cell_type": "code",
      "source": [
        "# from keras.utils.vis_utils import plot_model\n",
        "# plot_model(vgg, to_file='vgg_model_plot.png', show_shapes=True, show_layer_names=True)"
      ],
      "metadata": {
        "id": "aY1rKPIu8neI"
      },
      "execution_count": null,
      "outputs": []
    },
    {
      "cell_type": "code",
      "source": [
        "encoder = Sequential()"
      ],
      "metadata": {
        "id": "kpGjzv40neLg"
      },
      "execution_count": null,
      "outputs": []
    },
    {
      "cell_type": "code",
      "source": [
        "# Copying the layers into a sequential model for encoder\n",
        "for i, lay in enumerate(vgg.layers):\n",
        "  if i<22:\n",
        "    encoder.add(lay)"
      ],
      "metadata": {
        "id": "D7OmZn-CniLy"
      },
      "execution_count": null,
      "outputs": []
    },
    {
      "cell_type": "code",
      "source": [
        "# locking early layers(till block 4(inc))\n",
        "for i, lay in enumerate(encoder.layers):\n",
        "  if i<16:\n",
        "    lay.trainable=False\n",
        "  else:\n",
        "    lay.trainable=True"
      ],
      "metadata": {
        "id": "lO9jrtb_nnun"
      },
      "execution_count": null,
      "outputs": []
    },
    {
      "cell_type": "code",
      "source": [
        "encoder.summary()"
      ],
      "metadata": {
        "id": "JPOKIx1En28O",
        "colab": {
          "base_uri": "https://localhost:8080/"
        },
        "outputId": "ce54e762-054e-4ef7-a5ec-680f747d0e13"
      },
      "execution_count": null,
      "outputs": [
        {
          "output_type": "stream",
          "name": "stdout",
          "text": [
            "Model: \"sequential\"\n",
            "_________________________________________________________________\n",
            " Layer (type)                Output Shape              Param #   \n",
            "=================================================================\n",
            " block1_conv1 (Conv2D)       (None, 224, 224, 64)      1792      \n",
            "                                                                 \n",
            " block1_conv2 (Conv2D)       (None, 224, 224, 64)      36928     \n",
            "                                                                 \n",
            " block1_pool (MaxPooling2D)  (None, 112, 112, 64)      0         \n",
            "                                                                 \n",
            " block2_conv1 (Conv2D)       (None, 112, 112, 128)     73856     \n",
            "                                                                 \n",
            " block2_conv2 (Conv2D)       (None, 112, 112, 128)     147584    \n",
            "                                                                 \n",
            " block2_pool (MaxPooling2D)  (None, 56, 56, 128)       0         \n",
            "                                                                 \n",
            " block3_conv1 (Conv2D)       (None, 56, 56, 256)       295168    \n",
            "                                                                 \n",
            " block3_conv2 (Conv2D)       (None, 56, 56, 256)       590080    \n",
            "                                                                 \n",
            " block3_conv3 (Conv2D)       (None, 56, 56, 256)       590080    \n",
            "                                                                 \n",
            " block3_conv4 (Conv2D)       (None, 56, 56, 256)       590080    \n",
            "                                                                 \n",
            " block3_pool (MaxPooling2D)  (None, 28, 28, 256)       0         \n",
            "                                                                 \n",
            " block4_conv1 (Conv2D)       (None, 28, 28, 512)       1180160   \n",
            "                                                                 \n",
            " block4_conv2 (Conv2D)       (None, 28, 28, 512)       2359808   \n",
            "                                                                 \n",
            " block4_conv3 (Conv2D)       (None, 28, 28, 512)       2359808   \n",
            "                                                                 \n",
            " block4_conv4 (Conv2D)       (None, 28, 28, 512)       2359808   \n",
            "                                                                 \n",
            " block4_pool (MaxPooling2D)  (None, 14, 14, 512)       0         \n",
            "                                                                 \n",
            " block5_conv1 (Conv2D)       (None, 14, 14, 512)       2359808   \n",
            "                                                                 \n",
            " block5_conv2 (Conv2D)       (None, 14, 14, 512)       2359808   \n",
            "                                                                 \n",
            " block5_conv3 (Conv2D)       (None, 14, 14, 512)       2359808   \n",
            "                                                                 \n",
            " block5_conv4 (Conv2D)       (None, 14, 14, 512)       2359808   \n",
            "                                                                 \n",
            " block5_pool (MaxPooling2D)  (None, 7, 7, 512)         0         \n",
            "                                                                 \n",
            "=================================================================\n",
            "Total params: 20,024,384\n",
            "Trainable params: 9,439,232\n",
            "Non-trainable params: 10,585,152\n",
            "_________________________________________________________________\n"
          ]
        }
      ]
    },
    {
      "cell_type": "code",
      "source": [
        "# plot_model(encoder, to_file='encoder_model_plot.png', show_shapes=True, show_layer_names=True)"
      ],
      "metadata": {
        "id": "4icyD5TkEfcB"
      },
      "execution_count": null,
      "outputs": []
    },
    {
      "cell_type": "code",
      "source": [
        "# !pip install visualkeras\n",
        "# import visualkeras"
      ],
      "metadata": {
        "id": "TqNaf1XiEUNq"
      },
      "execution_count": null,
      "outputs": []
    },
    {
      "cell_type": "code",
      "source": [
        "# visualkeras.layered_view(encoder,legend=True, draw_volume=True)"
      ],
      "metadata": {
        "id": "Yy8gqUGrD0yQ"
      },
      "execution_count": null,
      "outputs": []
    },
    {
      "cell_type": "code",
      "source": [
        "# Decoder model\n",
        "\n",
        "decoder = Sequential([\n",
        "    layers.Conv2D(256, kernel_size=3, activation='relu', padding='same', input_shape=(7,7,512)),\n",
        "    layers.Conv2D(128, kernel_size=3, activation='relu', padding='same'),\n",
        "    layers.UpSampling2D((2,2)),\n",
        "    layers.Conv2D(64, kernel_size=3, activation='relu', padding='same'),\n",
        "    layers.UpSampling2D((2,2)),\n",
        "    layers.Conv2D(32, kernel_size=3, activation='relu', padding='same'),\n",
        "    layers.UpSampling2D((2,2)),\n",
        "    layers.Conv2D(16, kernel_size=3, activation='relu', padding='same'),\n",
        "    layers.UpSampling2D((2,2)),\n",
        "    layers.Conv2D(3, kernel_size=3, activation='sigmoid', padding='same'),\n",
        "    layers.UpSampling2D((2,2)),\n",
        "])"
      ],
      "metadata": {
        "id": "H4o-YWSAnrdW"
      },
      "execution_count": null,
      "outputs": []
    },
    {
      "cell_type": "code",
      "source": [
        "decoder.summary()"
      ],
      "metadata": {
        "id": "amqMoS1UnymR",
        "colab": {
          "base_uri": "https://localhost:8080/"
        },
        "outputId": "26844186-10fa-4fcc-a4e2-386b9679b9f6"
      },
      "execution_count": null,
      "outputs": [
        {
          "output_type": "stream",
          "name": "stdout",
          "text": [
            "Model: \"sequential_1\"\n",
            "_________________________________________________________________\n",
            " Layer (type)                Output Shape              Param #   \n",
            "=================================================================\n",
            " conv2d (Conv2D)             (None, 7, 7, 256)         1179904   \n",
            "                                                                 \n",
            " conv2d_1 (Conv2D)           (None, 7, 7, 128)         295040    \n",
            "                                                                 \n",
            " up_sampling2d (UpSampling2D  (None, 14, 14, 128)      0         \n",
            " )                                                               \n",
            "                                                                 \n",
            " conv2d_2 (Conv2D)           (None, 14, 14, 64)        73792     \n",
            "                                                                 \n",
            " up_sampling2d_1 (UpSampling  (None, 28, 28, 64)       0         \n",
            " 2D)                                                             \n",
            "                                                                 \n",
            " conv2d_3 (Conv2D)           (None, 28, 28, 32)        18464     \n",
            "                                                                 \n",
            " up_sampling2d_2 (UpSampling  (None, 56, 56, 32)       0         \n",
            " 2D)                                                             \n",
            "                                                                 \n",
            " conv2d_4 (Conv2D)           (None, 56, 56, 16)        4624      \n",
            "                                                                 \n",
            " up_sampling2d_3 (UpSampling  (None, 112, 112, 16)     0         \n",
            " 2D)                                                             \n",
            "                                                                 \n",
            " conv2d_5 (Conv2D)           (None, 112, 112, 3)       435       \n",
            "                                                                 \n",
            " up_sampling2d_4 (UpSampling  (None, 224, 224, 3)      0         \n",
            " 2D)                                                             \n",
            "                                                                 \n",
            "=================================================================\n",
            "Total params: 1,572,259\n",
            "Trainable params: 1,572,259\n",
            "Non-trainable params: 0\n",
            "_________________________________________________________________\n"
          ]
        }
      ]
    },
    {
      "cell_type": "code",
      "source": [
        "# plot_model(decoder, to_file='vgg_model_plot.png', show_shapes=True, show_layer_names=True)"
      ],
      "metadata": {
        "id": "UJ7mMzERExlj"
      },
      "execution_count": null,
      "outputs": []
    },
    {
      "cell_type": "code",
      "source": [
        "# from collections import defaultdict\n",
        "\n",
        "# color_map = defaultdict(dict) \n",
        "# color_map[layers.UpSampling2D]['fill'] = 'blue'"
      ],
      "metadata": {
        "id": "hjci-icdFqeL"
      },
      "execution_count": null,
      "outputs": []
    },
    {
      "cell_type": "code",
      "source": [
        "# visualkeras.layered_view(decoder,legend=True, draw_volume=True, color_map=color_map)"
      ],
      "metadata": {
        "id": "7NUvFgqZJ_Q1"
      },
      "execution_count": null,
      "outputs": []
    },
    {
      "cell_type": "code",
      "source": [],
      "metadata": {
        "id": "toIeMa2byX7A"
      },
      "execution_count": null,
      "outputs": []
    },
    {
      "cell_type": "code",
      "source": [
        "# Defining AE as encoder + decoder\n",
        "autoenc = Sequential([encoder, decoder])"
      ],
      "metadata": {
        "id": "XhD_Q5QSn446"
      },
      "execution_count": null,
      "outputs": []
    },
    {
      "cell_type": "markdown",
      "source": [
        "#### Training"
      ],
      "metadata": {
        "id": "jDI9_9YGoAEz"
      }
    },
    {
      "cell_type": "code",
      "source": [
        "optimizer = tf.keras.optimizers.Adam(learning_rate=0.001, use_ema=True)"
      ],
      "metadata": {
        "id": "UI2tpEPLn_iZ"
      },
      "execution_count": null,
      "outputs": []
    },
    {
      "cell_type": "code",
      "source": [
        "autoenc.compile(optimizer=optimizer, loss=losses.MeanSquaredError(), metrics=['mae'])"
      ],
      "metadata": {
        "id": "eqlWS8OQoEzK"
      },
      "execution_count": null,
      "outputs": []
    },
    {
      "cell_type": "code",
      "source": [
        "history = autoenc.fit(X_tensor, X_tensor,\n",
        "                epochs=500,\n",
        "                shuffle=True,\n",
        "                batch_size=32)"
      ],
      "metadata": {
        "colab": {
          "base_uri": "https://localhost:8080/"
        },
        "id": "cadZ90pnoOCM",
        "outputId": "76321a25-6f41-4c3b-f594-c7f9aeeffc5d"
      },
      "execution_count": null,
      "outputs": [
        {
          "output_type": "stream",
          "name": "stdout",
          "text": [
            "Epoch 1/500\n",
            "29/29 [==============================] - 22s 243ms/step - loss: 0.0640 - mae: 0.1697\n",
            "Epoch 2/500\n",
            "29/29 [==============================] - 6s 220ms/step - loss: 0.0238 - mae: 0.0906\n",
            "Epoch 3/500\n",
            "29/29 [==============================] - 6s 208ms/step - loss: 0.0217 - mae: 0.0854\n",
            "Epoch 4/500\n",
            "29/29 [==============================] - 6s 219ms/step - loss: 0.0213 - mae: 0.0843\n",
            "Epoch 5/500\n",
            "29/29 [==============================] - 6s 206ms/step - loss: 0.0207 - mae: 0.0828\n",
            "Epoch 6/500\n",
            "29/29 [==============================] - 7s 225ms/step - loss: 0.0204 - mae: 0.0820\n",
            "Epoch 7/500\n",
            "29/29 [==============================] - 6s 210ms/step - loss: 0.0202 - mae: 0.0815\n",
            "Epoch 8/500\n",
            "29/29 [==============================] - 6s 223ms/step - loss: 0.0201 - mae: 0.0811\n",
            "Epoch 9/500\n",
            "29/29 [==============================] - 6s 208ms/step - loss: 0.0204 - mae: 0.0819\n",
            "Epoch 10/500\n",
            "29/29 [==============================] - 6s 221ms/step - loss: 0.0199 - mae: 0.0806\n",
            "Epoch 11/500\n",
            "29/29 [==============================] - 6s 212ms/step - loss: 0.0198 - mae: 0.0802\n",
            "Epoch 12/500\n",
            "29/29 [==============================] - 6s 218ms/step - loss: 0.0197 - mae: 0.0799\n",
            "Epoch 13/500\n",
            "29/29 [==============================] - 6s 218ms/step - loss: 0.0198 - mae: 0.0801\n",
            "Epoch 14/500\n",
            "29/29 [==============================] - 6s 214ms/step - loss: 0.0196 - mae: 0.0796\n",
            "Epoch 15/500\n",
            "29/29 [==============================] - 6s 219ms/step - loss: 0.0196 - mae: 0.0795\n",
            "Epoch 16/500\n",
            "29/29 [==============================] - 6s 215ms/step - loss: 0.0195 - mae: 0.0793\n",
            "Epoch 17/500\n",
            "29/29 [==============================] - 6s 223ms/step - loss: 0.0195 - mae: 0.0792\n",
            "Epoch 18/500\n",
            "29/29 [==============================] - 6s 209ms/step - loss: 0.0194 - mae: 0.0788\n",
            "Epoch 19/500\n",
            "29/29 [==============================] - 6s 221ms/step - loss: 0.0198 - mae: 0.0799\n",
            "Epoch 20/500\n",
            "29/29 [==============================] - 6s 213ms/step - loss: 0.0194 - mae: 0.0788\n",
            "Epoch 21/500\n",
            "29/29 [==============================] - 6s 224ms/step - loss: 0.0194 - mae: 0.0788\n",
            "Epoch 22/500\n",
            "29/29 [==============================] - 6s 211ms/step - loss: 0.0194 - mae: 0.0788\n",
            "Epoch 23/500\n",
            "29/29 [==============================] - 7s 226ms/step - loss: 0.0192 - mae: 0.0783\n",
            "Epoch 24/500\n",
            "29/29 [==============================] - 6s 210ms/step - loss: 0.0192 - mae: 0.0783\n",
            "Epoch 25/500\n",
            "29/29 [==============================] - 6s 223ms/step - loss: 0.0192 - mae: 0.0782\n",
            "Epoch 26/500\n",
            "29/29 [==============================] - 6s 216ms/step - loss: 0.0192 - mae: 0.0780\n",
            "Epoch 27/500\n",
            "29/29 [==============================] - 7s 228ms/step - loss: 0.0192 - mae: 0.0783\n",
            "Epoch 28/500\n",
            "29/29 [==============================] - 6s 217ms/step - loss: 0.0191 - mae: 0.0780\n",
            "Epoch 29/500\n",
            "29/29 [==============================] - 6s 223ms/step - loss: 0.0192 - mae: 0.0782\n",
            "Epoch 30/500\n",
            "29/29 [==============================] - 6s 221ms/step - loss: 0.0194 - mae: 0.0786\n",
            "Epoch 31/500\n",
            "29/29 [==============================] - 7s 229ms/step - loss: 0.0191 - mae: 0.0781\n",
            "Epoch 32/500\n",
            "29/29 [==============================] - 6s 222ms/step - loss: 0.0191 - mae: 0.0779\n",
            "Epoch 33/500\n",
            "29/29 [==============================] - 7s 226ms/step - loss: 0.0190 - mae: 0.0776\n",
            "Epoch 34/500\n",
            "29/29 [==============================] - 7s 226ms/step - loss: 0.0190 - mae: 0.0775\n",
            "Epoch 35/500\n",
            "29/29 [==============================] - 6s 221ms/step - loss: 0.0190 - mae: 0.0776\n",
            "Epoch 36/500\n",
            "29/29 [==============================] - 7s 225ms/step - loss: 0.0190 - mae: 0.0775\n",
            "Epoch 37/500\n",
            "29/29 [==============================] - 6s 221ms/step - loss: 0.0189 - mae: 0.0773\n",
            "Epoch 38/500\n",
            "29/29 [==============================] - 7s 225ms/step - loss: 0.0189 - mae: 0.0773\n",
            "Epoch 39/500\n",
            "29/29 [==============================] - 6s 220ms/step - loss: 0.0189 - mae: 0.0772\n",
            "Epoch 40/500\n",
            "29/29 [==============================] - 7s 229ms/step - loss: 0.0189 - mae: 0.0773\n",
            "Epoch 41/500\n",
            "29/29 [==============================] - 6s 219ms/step - loss: 0.0189 - mae: 0.0773\n",
            "Epoch 42/500\n",
            "29/29 [==============================] - 7s 229ms/step - loss: 0.0189 - mae: 0.0772\n",
            "Epoch 43/500\n",
            "29/29 [==============================] - 6s 215ms/step - loss: 0.0191 - mae: 0.0778\n",
            "Epoch 44/500\n",
            "29/29 [==============================] - 7s 229ms/step - loss: 0.0190 - mae: 0.0778\n",
            "Epoch 45/500\n",
            "29/29 [==============================] - 6s 217ms/step - loss: 0.0189 - mae: 0.0772\n",
            "Epoch 46/500\n",
            "29/29 [==============================] - 7s 231ms/step - loss: 0.0188 - mae: 0.0771\n",
            "Epoch 47/500\n",
            "29/29 [==============================] - 6s 215ms/step - loss: 0.0188 - mae: 0.0770\n",
            "Epoch 48/500\n",
            "29/29 [==============================] - 7s 230ms/step - loss: 0.0188 - mae: 0.0769\n",
            "Epoch 49/500\n",
            "29/29 [==============================] - 6s 218ms/step - loss: 0.0187 - mae: 0.0768\n",
            "Epoch 50/500\n",
            "29/29 [==============================] - 7s 230ms/step - loss: 0.0187 - mae: 0.0767\n",
            "Epoch 51/500\n",
            "29/29 [==============================] - 6s 216ms/step - loss: 0.0187 - mae: 0.0766\n",
            "Epoch 52/500\n",
            "29/29 [==============================] - 7s 231ms/step - loss: 0.0187 - mae: 0.0767\n",
            "Epoch 53/500\n",
            "29/29 [==============================] - 6s 218ms/step - loss: 0.0187 - mae: 0.0766\n",
            "Epoch 54/500\n",
            "29/29 [==============================] - 7s 232ms/step - loss: 0.0187 - mae: 0.0766\n",
            "Epoch 55/500\n",
            "29/29 [==============================] - 6s 219ms/step - loss: 0.0187 - mae: 0.0766\n",
            "Epoch 56/500\n",
            "29/29 [==============================] - 7s 234ms/step - loss: 0.0187 - mae: 0.0767\n",
            "Epoch 57/500\n",
            "29/29 [==============================] - 6s 218ms/step - loss: 0.0186 - mae: 0.0764\n",
            "Epoch 58/500\n",
            "29/29 [==============================] - 7s 229ms/step - loss: 0.0186 - mae: 0.0762\n",
            "Epoch 59/500\n",
            "29/29 [==============================] - 6s 216ms/step - loss: 0.0186 - mae: 0.0763\n",
            "Epoch 60/500\n",
            "29/29 [==============================] - 7s 232ms/step - loss: 0.0186 - mae: 0.0763\n",
            "Epoch 61/500\n",
            "29/29 [==============================] - 6s 218ms/step - loss: 0.0186 - mae: 0.0764\n",
            "Epoch 62/500\n",
            "29/29 [==============================] - 7s 231ms/step - loss: 0.0186 - mae: 0.0762\n",
            "Epoch 63/500\n",
            "29/29 [==============================] - 6s 216ms/step - loss: 0.0185 - mae: 0.0760\n",
            "Epoch 64/500\n",
            "29/29 [==============================] - 7s 230ms/step - loss: 0.0186 - mae: 0.0763\n",
            "Epoch 65/500\n",
            "29/29 [==============================] - 6s 219ms/step - loss: 0.0185 - mae: 0.0760\n",
            "Epoch 66/500\n",
            "29/29 [==============================] - 6s 222ms/step - loss: 0.0184 - mae: 0.0757\n",
            "Epoch 67/500\n",
            "29/29 [==============================] - 6s 220ms/step - loss: 0.0184 - mae: 0.0758\n",
            "Epoch 68/500\n",
            "29/29 [==============================] - 7s 228ms/step - loss: 0.0184 - mae: 0.0757\n",
            "Epoch 69/500\n",
            "29/29 [==============================] - 7s 233ms/step - loss: 0.0184 - mae: 0.0756\n",
            "Epoch 70/500\n",
            "29/29 [==============================] - 6s 225ms/step - loss: 0.0183 - mae: 0.0756\n",
            "Epoch 71/500\n",
            "29/29 [==============================] - 7s 225ms/step - loss: 0.0183 - mae: 0.0754\n",
            "Epoch 72/500\n",
            "29/29 [==============================] - 6s 220ms/step - loss: 0.0183 - mae: 0.0755\n",
            "Epoch 73/500\n",
            "29/29 [==============================] - 7s 225ms/step - loss: 0.0184 - mae: 0.0755\n",
            "Epoch 74/500\n",
            "29/29 [==============================] - 6s 213ms/step - loss: 0.0183 - mae: 0.0754\n",
            "Epoch 75/500\n",
            "29/29 [==============================] - 7s 228ms/step - loss: 0.0183 - mae: 0.0755\n",
            "Epoch 76/500\n",
            "29/29 [==============================] - 6s 219ms/step - loss: 0.0183 - mae: 0.0753\n",
            "Epoch 77/500\n",
            "29/29 [==============================] - 7s 232ms/step - loss: 0.0183 - mae: 0.0754\n",
            "Epoch 78/500\n",
            "29/29 [==============================] - 6s 217ms/step - loss: 0.0183 - mae: 0.0754\n",
            "Epoch 79/500\n",
            "29/29 [==============================] - 7s 234ms/step - loss: 0.0182 - mae: 0.0751\n",
            "Epoch 80/500\n",
            "29/29 [==============================] - 6s 219ms/step - loss: 0.0183 - mae: 0.0752\n",
            "Epoch 81/500\n",
            "29/29 [==============================] - 7s 231ms/step - loss: 0.0182 - mae: 0.0751\n",
            "Epoch 82/500\n",
            "29/29 [==============================] - 6s 219ms/step - loss: 0.0183 - mae: 0.0754\n",
            "Epoch 83/500\n",
            "29/29 [==============================] - 7s 232ms/step - loss: 0.0182 - mae: 0.0751\n",
            "Epoch 84/500\n",
            "29/29 [==============================] - 6s 217ms/step - loss: 0.0181 - mae: 0.0749\n",
            "Epoch 85/500\n",
            "29/29 [==============================] - 7s 231ms/step - loss: 0.0182 - mae: 0.0750\n",
            "Epoch 86/500\n",
            "29/29 [==============================] - 6s 217ms/step - loss: 0.0180 - mae: 0.0746\n",
            "Epoch 87/500\n",
            "29/29 [==============================] - 7s 232ms/step - loss: 0.0180 - mae: 0.0746\n",
            "Epoch 88/500\n",
            "29/29 [==============================] - 6s 217ms/step - loss: 0.0180 - mae: 0.0745\n",
            "Epoch 89/500\n",
            "29/29 [==============================] - 7s 229ms/step - loss: 0.0180 - mae: 0.0746\n",
            "Epoch 90/500\n",
            "29/29 [==============================] - 6s 219ms/step - loss: 0.0180 - mae: 0.0745\n",
            "Epoch 91/500\n",
            "29/29 [==============================] - 7s 231ms/step - loss: 0.0180 - mae: 0.0745\n",
            "Epoch 92/500\n",
            "29/29 [==============================] - 6s 219ms/step - loss: 0.0180 - mae: 0.0744\n",
            "Epoch 93/500\n",
            "29/29 [==============================] - 7s 232ms/step - loss: 0.0179 - mae: 0.0742\n",
            "Epoch 94/500\n",
            "29/29 [==============================] - 6s 218ms/step - loss: 0.0179 - mae: 0.0742\n",
            "Epoch 95/500\n",
            "29/29 [==============================] - 7s 230ms/step - loss: 0.0179 - mae: 0.0741\n",
            "Epoch 96/500\n",
            "29/29 [==============================] - 6s 218ms/step - loss: 0.0178 - mae: 0.0740\n",
            "Epoch 97/500\n",
            "29/29 [==============================] - 7s 233ms/step - loss: 0.0179 - mae: 0.0742\n",
            "Epoch 98/500\n",
            "29/29 [==============================] - 6s 219ms/step - loss: 0.0181 - mae: 0.0748\n",
            "Epoch 99/500\n",
            "29/29 [==============================] - 7s 232ms/step - loss: 0.0179 - mae: 0.0743\n",
            "Epoch 100/500\n",
            "29/29 [==============================] - 6s 218ms/step - loss: 0.0179 - mae: 0.0742\n",
            "Epoch 101/500\n",
            "29/29 [==============================] - 7s 228ms/step - loss: 0.0178 - mae: 0.0739\n",
            "Epoch 102/500\n",
            "29/29 [==============================] - 6s 218ms/step - loss: 0.0178 - mae: 0.0740\n",
            "Epoch 103/500\n",
            "29/29 [==============================] - 7s 225ms/step - loss: 0.0178 - mae: 0.0738\n",
            "Epoch 104/500\n",
            "29/29 [==============================] - 6s 221ms/step - loss: 0.0178 - mae: 0.0739\n",
            "Epoch 105/500\n",
            "29/29 [==============================] - 6s 224ms/step - loss: 0.0177 - mae: 0.0737\n",
            "Epoch 106/500\n",
            "29/29 [==============================] - 6s 222ms/step - loss: 0.0177 - mae: 0.0736\n",
            "Epoch 107/500\n",
            "29/29 [==============================] - 7s 225ms/step - loss: 0.0177 - mae: 0.0735\n",
            "Epoch 108/500\n",
            "29/29 [==============================] - 6s 222ms/step - loss: 0.0177 - mae: 0.0736\n",
            "Epoch 109/500\n",
            "29/29 [==============================] - 6s 224ms/step - loss: 0.0177 - mae: 0.0735\n",
            "Epoch 110/500\n",
            "29/29 [==============================] - 7s 225ms/step - loss: 0.0176 - mae: 0.0733\n",
            "Epoch 111/500\n",
            "29/29 [==============================] - 6s 223ms/step - loss: 0.0177 - mae: 0.0735\n",
            "Epoch 112/500\n",
            "29/29 [==============================] - 7s 228ms/step - loss: 0.0176 - mae: 0.0734\n",
            "Epoch 113/500\n",
            "29/29 [==============================] - 6s 219ms/step - loss: 0.0176 - mae: 0.0733\n",
            "Epoch 114/500\n",
            "29/29 [==============================] - 6s 223ms/step - loss: 0.0176 - mae: 0.0733\n",
            "Epoch 115/500\n",
            "29/29 [==============================] - 6s 220ms/step - loss: 0.0176 - mae: 0.0733\n",
            "Epoch 116/500\n",
            "29/29 [==============================] - 7s 230ms/step - loss: 0.0175 - mae: 0.0730\n",
            "Epoch 117/500\n",
            "29/29 [==============================] - 6s 220ms/step - loss: 0.0175 - mae: 0.0728\n",
            "Epoch 118/500\n",
            "29/29 [==============================] - 7s 231ms/step - loss: 0.0175 - mae: 0.0729\n",
            "Epoch 119/500\n",
            "29/29 [==============================] - 6s 218ms/step - loss: 0.0175 - mae: 0.0729\n",
            "Epoch 120/500\n",
            "29/29 [==============================] - 7s 231ms/step - loss: 0.0175 - mae: 0.0729\n",
            "Epoch 121/500\n",
            "29/29 [==============================] - 6s 216ms/step - loss: 0.0177 - mae: 0.0734\n",
            "Epoch 122/500\n",
            "29/29 [==============================] - 7s 230ms/step - loss: 0.0175 - mae: 0.0728\n",
            "Epoch 123/500\n",
            "29/29 [==============================] - 6s 219ms/step - loss: 0.0174 - mae: 0.0727\n",
            "Epoch 124/500\n",
            "29/29 [==============================] - 7s 231ms/step - loss: 0.0174 - mae: 0.0725\n",
            "Epoch 125/500\n",
            "29/29 [==============================] - 6s 220ms/step - loss: 0.0174 - mae: 0.0727\n",
            "Epoch 126/500\n",
            "29/29 [==============================] - 7s 231ms/step - loss: 0.0174 - mae: 0.0727\n",
            "Epoch 127/500\n",
            "29/29 [==============================] - 6s 217ms/step - loss: 0.0173 - mae: 0.0724\n",
            "Epoch 128/500\n",
            "29/29 [==============================] - 7s 232ms/step - loss: 0.0173 - mae: 0.0723\n",
            "Epoch 129/500\n",
            "29/29 [==============================] - 6s 217ms/step - loss: 0.0172 - mae: 0.0722\n",
            "Epoch 130/500\n",
            "29/29 [==============================] - 7s 230ms/step - loss: 0.0173 - mae: 0.0723\n",
            "Epoch 131/500\n",
            "29/29 [==============================] - 6s 215ms/step - loss: 0.0173 - mae: 0.0723\n",
            "Epoch 132/500\n",
            "29/29 [==============================] - 7s 229ms/step - loss: 0.0173 - mae: 0.0722\n",
            "Epoch 133/500\n",
            "29/29 [==============================] - 6s 218ms/step - loss: 0.0173 - mae: 0.0722\n",
            "Epoch 134/500\n",
            "29/29 [==============================] - 7s 231ms/step - loss: 0.0174 - mae: 0.0726\n",
            "Epoch 135/500\n",
            "29/29 [==============================] - 6s 222ms/step - loss: 0.0174 - mae: 0.0726\n",
            "Epoch 136/500\n",
            "29/29 [==============================] - 7s 235ms/step - loss: 0.0172 - mae: 0.0721\n",
            "Epoch 137/500\n",
            "29/29 [==============================] - 6s 217ms/step - loss: 0.0172 - mae: 0.0720\n",
            "Epoch 138/500\n",
            "29/29 [==============================] - 7s 229ms/step - loss: 0.0171 - mae: 0.0719\n",
            "Epoch 139/500\n",
            "29/29 [==============================] - 6s 219ms/step - loss: 0.0172 - mae: 0.0719\n",
            "Epoch 140/500\n",
            "29/29 [==============================] - 7s 230ms/step - loss: 0.0172 - mae: 0.0721\n",
            "Epoch 141/500\n",
            "29/29 [==============================] - 6s 216ms/step - loss: 0.0171 - mae: 0.0718\n",
            "Epoch 142/500\n",
            "29/29 [==============================] - 7s 229ms/step - loss: 0.0171 - mae: 0.0716\n",
            "Epoch 143/500\n",
            "29/29 [==============================] - 6s 220ms/step - loss: 0.0170 - mae: 0.0715\n",
            "Epoch 144/500\n",
            "29/29 [==============================] - 6s 223ms/step - loss: 0.0172 - mae: 0.0719\n",
            "Epoch 145/500\n",
            "29/29 [==============================] - 6s 222ms/step - loss: 0.0171 - mae: 0.0718\n",
            "Epoch 146/500\n",
            "29/29 [==============================] - 6s 223ms/step - loss: 0.0174 - mae: 0.0724\n",
            "Epoch 147/500\n",
            "29/29 [==============================] - 7s 226ms/step - loss: 0.0172 - mae: 0.0720\n",
            "Epoch 148/500\n",
            "29/29 [==============================] - 6s 223ms/step - loss: 0.0171 - mae: 0.0716\n",
            "Epoch 149/500\n",
            "29/29 [==============================] - 7s 226ms/step - loss: 0.0173 - mae: 0.0721\n",
            "Epoch 150/500\n",
            "29/29 [==============================] - 7s 225ms/step - loss: 0.0171 - mae: 0.0716\n",
            "Epoch 151/500\n",
            "29/29 [==============================] - 6s 222ms/step - loss: 0.0169 - mae: 0.0712\n",
            "Epoch 152/500\n",
            "29/29 [==============================] - 6s 222ms/step - loss: 0.0169 - mae: 0.0711\n",
            "Epoch 153/500\n",
            "29/29 [==============================] - 7s 226ms/step - loss: 0.0169 - mae: 0.0711\n",
            "Epoch 154/500\n",
            "29/29 [==============================] - 6s 220ms/step - loss: 0.0169 - mae: 0.0710\n",
            "Epoch 155/500\n",
            "29/29 [==============================] - 7s 231ms/step - loss: 0.0169 - mae: 0.0710\n",
            "Epoch 156/500\n",
            "29/29 [==============================] - 6s 218ms/step - loss: 0.0169 - mae: 0.0710\n",
            "Epoch 157/500\n",
            "29/29 [==============================] - 7s 232ms/step - loss: 0.0169 - mae: 0.0711\n",
            "Epoch 158/500\n",
            "29/29 [==============================] - 6s 218ms/step - loss: 0.0169 - mae: 0.0712\n",
            "Epoch 159/500\n",
            "29/29 [==============================] - 7s 230ms/step - loss: 0.0169 - mae: 0.0709\n",
            "Epoch 160/500\n",
            "29/29 [==============================] - 6s 217ms/step - loss: 0.0168 - mae: 0.0708\n",
            "Epoch 161/500\n",
            "29/29 [==============================] - 7s 231ms/step - loss: 0.0168 - mae: 0.0707\n",
            "Epoch 162/500\n",
            "29/29 [==============================] - 6s 216ms/step - loss: 0.0168 - mae: 0.0707\n",
            "Epoch 163/500\n",
            "29/29 [==============================] - 7s 228ms/step - loss: 0.0168 - mae: 0.0707\n",
            "Epoch 164/500\n",
            "29/29 [==============================] - 6s 219ms/step - loss: 0.0170 - mae: 0.0713\n",
            "Epoch 165/500\n",
            "29/29 [==============================] - 7s 232ms/step - loss: 0.0169 - mae: 0.0711\n",
            "Epoch 166/500\n",
            "29/29 [==============================] - 6s 218ms/step - loss: 0.0169 - mae: 0.0709\n",
            "Epoch 167/500\n",
            "29/29 [==============================] - 7s 227ms/step - loss: 0.0168 - mae: 0.0707\n",
            "Epoch 168/500\n",
            "29/29 [==============================] - 6s 217ms/step - loss: 0.0167 - mae: 0.0705\n",
            "Epoch 169/500\n",
            "29/29 [==============================] - 7s 230ms/step - loss: 0.0167 - mae: 0.0704\n",
            "Epoch 170/500\n",
            "29/29 [==============================] - 6s 219ms/step - loss: 0.0168 - mae: 0.0706\n",
            "Epoch 171/500\n",
            "29/29 [==============================] - 7s 230ms/step - loss: 0.0169 - mae: 0.0710\n",
            "Epoch 172/500\n",
            "29/29 [==============================] - 6s 217ms/step - loss: 0.0168 - mae: 0.0706\n",
            "Epoch 173/500\n",
            "29/29 [==============================] - 7s 230ms/step - loss: 0.0167 - mae: 0.0706\n",
            "Epoch 174/500\n",
            "29/29 [==============================] - 6s 216ms/step - loss: 0.0167 - mae: 0.0703\n",
            "Epoch 175/500\n",
            "29/29 [==============================] - 7s 231ms/step - loss: 0.0166 - mae: 0.0703\n",
            "Epoch 176/500\n",
            "29/29 [==============================] - 6s 219ms/step - loss: 0.0166 - mae: 0.0702\n",
            "Epoch 177/500\n",
            "29/29 [==============================] - 7s 230ms/step - loss: 0.0166 - mae: 0.0702\n",
            "Epoch 178/500\n",
            "29/29 [==============================] - 6s 217ms/step - loss: 0.0166 - mae: 0.0702\n",
            "Epoch 179/500\n",
            "29/29 [==============================] - 7s 229ms/step - loss: 0.0168 - mae: 0.0706\n",
            "Epoch 180/500\n",
            "29/29 [==============================] - 6s 218ms/step - loss: 0.0167 - mae: 0.0704\n",
            "Epoch 181/500\n",
            "29/29 [==============================] - 6s 223ms/step - loss: 0.0166 - mae: 0.0702\n",
            "Epoch 182/500\n",
            "29/29 [==============================] - 6s 220ms/step - loss: 0.0166 - mae: 0.0702\n",
            "Epoch 183/500\n",
            "29/29 [==============================] - 6s 222ms/step - loss: 0.0166 - mae: 0.0700\n",
            "Epoch 184/500\n",
            "29/29 [==============================] - 7s 229ms/step - loss: 0.0165 - mae: 0.0699\n",
            "Epoch 185/500\n",
            "29/29 [==============================] - 6s 221ms/step - loss: 0.0165 - mae: 0.0698\n",
            "Epoch 186/500\n",
            "29/29 [==============================] - 7s 228ms/step - loss: 0.0165 - mae: 0.0699\n",
            "Epoch 187/500\n",
            "29/29 [==============================] - 6s 216ms/step - loss: 0.0166 - mae: 0.0701\n",
            "Epoch 188/500\n",
            "29/29 [==============================] - 7s 229ms/step - loss: 0.0166 - mae: 0.0701\n",
            "Epoch 189/500\n",
            "29/29 [==============================] - 6s 219ms/step - loss: 0.0166 - mae: 0.0700\n",
            "Epoch 190/500\n",
            "29/29 [==============================] - 7s 235ms/step - loss: 0.0165 - mae: 0.0699\n",
            "Epoch 191/500\n",
            "29/29 [==============================] - 6s 217ms/step - loss: 0.0165 - mae: 0.0697\n",
            "Epoch 192/500\n",
            "29/29 [==============================] - 7s 230ms/step - loss: 0.0164 - mae: 0.0696\n",
            "Epoch 193/500\n",
            "29/29 [==============================] - 6s 220ms/step - loss: 0.0164 - mae: 0.0695\n",
            "Epoch 194/500\n",
            "29/29 [==============================] - 7s 229ms/step - loss: 0.0164 - mae: 0.0695\n",
            "Epoch 195/500\n",
            "29/29 [==============================] - 6s 218ms/step - loss: 0.0165 - mae: 0.0699\n",
            "Epoch 196/500\n",
            "29/29 [==============================] - 7s 227ms/step - loss: 0.0165 - mae: 0.0696\n",
            "Epoch 197/500\n",
            "29/29 [==============================] - 6s 218ms/step - loss: 0.0165 - mae: 0.0698\n",
            "Epoch 198/500\n",
            "29/29 [==============================] - 7s 231ms/step - loss: 0.0165 - mae: 0.0699\n",
            "Epoch 199/500\n",
            "29/29 [==============================] - 6s 220ms/step - loss: 0.0165 - mae: 0.0698\n",
            "Epoch 200/500\n",
            "29/29 [==============================] - 7s 227ms/step - loss: 0.0165 - mae: 0.0697\n",
            "Epoch 201/500\n",
            "29/29 [==============================] - 6s 219ms/step - loss: 0.0166 - mae: 0.0700\n",
            "Epoch 202/500\n",
            "29/29 [==============================] - 7s 235ms/step - loss: 0.0164 - mae: 0.0695\n",
            "Epoch 203/500\n",
            "29/29 [==============================] - 7s 226ms/step - loss: 0.0164 - mae: 0.0694\n",
            "Epoch 204/500\n",
            "29/29 [==============================] - 7s 228ms/step - loss: 0.0164 - mae: 0.0694\n",
            "Epoch 205/500\n",
            "29/29 [==============================] - 6s 219ms/step - loss: 0.0163 - mae: 0.0693\n",
            "Epoch 206/500\n",
            "29/29 [==============================] - 7s 229ms/step - loss: 0.0163 - mae: 0.0693\n",
            "Epoch 207/500\n",
            "29/29 [==============================] - 6s 220ms/step - loss: 0.0163 - mae: 0.0692\n",
            "Epoch 208/500\n",
            "29/29 [==============================] - 7s 234ms/step - loss: 0.0164 - mae: 0.0693\n",
            "Epoch 209/500\n",
            "29/29 [==============================] - 6s 220ms/step - loss: 0.0166 - mae: 0.0699\n",
            "Epoch 210/500\n",
            "29/29 [==============================] - 7s 230ms/step - loss: 0.0165 - mae: 0.0696\n",
            "Epoch 211/500\n",
            "29/29 [==============================] - 6s 218ms/step - loss: 0.0164 - mae: 0.0695\n",
            "Epoch 212/500\n",
            "29/29 [==============================] - 7s 231ms/step - loss: 0.0165 - mae: 0.0696\n",
            "Epoch 213/500\n",
            "29/29 [==============================] - 6s 221ms/step - loss: 0.0164 - mae: 0.0693\n",
            "Epoch 214/500\n",
            "29/29 [==============================] - 7s 225ms/step - loss: 0.0163 - mae: 0.0692\n",
            "Epoch 215/500\n",
            "29/29 [==============================] - 6s 221ms/step - loss: 0.0163 - mae: 0.0692\n",
            "Epoch 216/500\n",
            "29/29 [==============================] - 7s 227ms/step - loss: 0.0164 - mae: 0.0693\n",
            "Epoch 217/500\n",
            "29/29 [==============================] - 6s 219ms/step - loss: 0.0162 - mae: 0.0690\n",
            "Epoch 218/500\n",
            "29/29 [==============================] - 7s 225ms/step - loss: 0.0162 - mae: 0.0690\n",
            "Epoch 219/500\n",
            "29/29 [==============================] - 6s 224ms/step - loss: 0.0162 - mae: 0.0689\n",
            "Epoch 220/500\n",
            "29/29 [==============================] - 6s 223ms/step - loss: 0.0162 - mae: 0.0688\n",
            "Epoch 221/500\n",
            "29/29 [==============================] - 7s 225ms/step - loss: 0.0162 - mae: 0.0687\n",
            "Epoch 222/500\n",
            "29/29 [==============================] - 7s 227ms/step - loss: 0.0161 - mae: 0.0687\n",
            "Epoch 223/500\n",
            "29/29 [==============================] - 7s 228ms/step - loss: 0.0162 - mae: 0.0688\n",
            "Epoch 224/500\n",
            "29/29 [==============================] - 6s 222ms/step - loss: 0.0162 - mae: 0.0689\n",
            "Epoch 225/500\n",
            "29/29 [==============================] - 7s 228ms/step - loss: 0.0162 - mae: 0.0688\n",
            "Epoch 226/500\n",
            "29/29 [==============================] - 6s 221ms/step - loss: 0.0161 - mae: 0.0687\n",
            "Epoch 227/500\n",
            "29/29 [==============================] - 7s 225ms/step - loss: 0.0161 - mae: 0.0686\n",
            "Epoch 228/500\n",
            "29/29 [==============================] - 6s 220ms/step - loss: 0.0162 - mae: 0.0689\n",
            "Epoch 229/500\n",
            "29/29 [==============================] - 7s 229ms/step - loss: 0.0163 - mae: 0.0691\n",
            "Epoch 230/500\n",
            "29/29 [==============================] - 6s 217ms/step - loss: 0.0162 - mae: 0.0689\n",
            "Epoch 231/500\n",
            "29/29 [==============================] - 7s 231ms/step - loss: 0.0161 - mae: 0.0686\n",
            "Epoch 232/500\n",
            "29/29 [==============================] - 6s 218ms/step - loss: 0.0161 - mae: 0.0685\n",
            "Epoch 233/500\n",
            "29/29 [==============================] - 7s 230ms/step - loss: 0.0160 - mae: 0.0684\n",
            "Epoch 234/500\n",
            "29/29 [==============================] - 6s 217ms/step - loss: 0.0161 - mae: 0.0685\n",
            "Epoch 235/500\n",
            "29/29 [==============================] - 7s 234ms/step - loss: 0.0161 - mae: 0.0686\n",
            "Epoch 236/500\n",
            "29/29 [==============================] - 6s 221ms/step - loss: 0.0163 - mae: 0.0692\n",
            "Epoch 237/500\n",
            "29/29 [==============================] - 7s 233ms/step - loss: 0.0162 - mae: 0.0690\n",
            "Epoch 238/500\n",
            "29/29 [==============================] - 6s 218ms/step - loss: 0.0161 - mae: 0.0686\n",
            "Epoch 239/500\n",
            "29/29 [==============================] - 7s 233ms/step - loss: 0.0162 - mae: 0.0687\n",
            "Epoch 240/500\n",
            "29/29 [==============================] - 6s 218ms/step - loss: 0.0161 - mae: 0.0687\n",
            "Epoch 241/500\n",
            "29/29 [==============================] - 7s 231ms/step - loss: 0.0160 - mae: 0.0683\n",
            "Epoch 242/500\n",
            "29/29 [==============================] - 6s 222ms/step - loss: 0.0160 - mae: 0.0683\n",
            "Epoch 243/500\n",
            "29/29 [==============================] - 7s 233ms/step - loss: 0.0160 - mae: 0.0682\n",
            "Epoch 244/500\n",
            "29/29 [==============================] - 6s 217ms/step - loss: 0.0160 - mae: 0.0681\n",
            "Epoch 245/500\n",
            "29/29 [==============================] - 7s 230ms/step - loss: 0.0159 - mae: 0.0680\n",
            "Epoch 246/500\n",
            "29/29 [==============================] - 6s 218ms/step - loss: 0.0159 - mae: 0.0680\n",
            "Epoch 247/500\n",
            "29/29 [==============================] - 7s 229ms/step - loss: 0.0160 - mae: 0.0682\n",
            "Epoch 248/500\n",
            "29/29 [==============================] - 6s 220ms/step - loss: 0.0162 - mae: 0.0686\n",
            "Epoch 249/500\n",
            "29/29 [==============================] - 7s 232ms/step - loss: 0.0161 - mae: 0.0685\n",
            "Epoch 250/500\n",
            "29/29 [==============================] - 6s 218ms/step - loss: 0.0161 - mae: 0.0685\n",
            "Epoch 251/500\n",
            "29/29 [==============================] - 7s 229ms/step - loss: 0.0160 - mae: 0.0682\n",
            "Epoch 252/500\n",
            "29/29 [==============================] - 6s 218ms/step - loss: 0.0159 - mae: 0.0681\n",
            "Epoch 253/500\n",
            "29/29 [==============================] - 7s 232ms/step - loss: 0.0159 - mae: 0.0680\n",
            "Epoch 254/500\n",
            "29/29 [==============================] - 6s 219ms/step - loss: 0.0159 - mae: 0.0679\n",
            "Epoch 255/500\n",
            "29/29 [==============================] - 6s 224ms/step - loss: 0.0158 - mae: 0.0677\n",
            "Epoch 256/500\n",
            "29/29 [==============================] - 6s 221ms/step - loss: 0.0159 - mae: 0.0679\n",
            "Epoch 257/500\n",
            "29/29 [==============================] - 7s 229ms/step - loss: 0.0158 - mae: 0.0678\n",
            "Epoch 258/500\n",
            "29/29 [==============================] - 6s 221ms/step - loss: 0.0159 - mae: 0.0679\n",
            "Epoch 259/500\n",
            "29/29 [==============================] - 6s 221ms/step - loss: 0.0165 - mae: 0.0696\n",
            "Epoch 260/500\n",
            "29/29 [==============================] - 7s 223ms/step - loss: 0.0161 - mae: 0.0684\n",
            "Epoch 261/500\n",
            "29/29 [==============================] - 6s 221ms/step - loss: 0.0159 - mae: 0.0681\n",
            "Epoch 262/500\n",
            "29/29 [==============================] - 7s 226ms/step - loss: 0.0159 - mae: 0.0678\n",
            "Epoch 263/500\n",
            "29/29 [==============================] - 6s 219ms/step - loss: 0.0159 - mae: 0.0679\n",
            "Epoch 264/500\n",
            "29/29 [==============================] - 7s 231ms/step - loss: 0.0158 - mae: 0.0678\n",
            "Epoch 265/500\n",
            "29/29 [==============================] - 6s 218ms/step - loss: 0.0158 - mae: 0.0676\n",
            "Epoch 266/500\n",
            "29/29 [==============================] - 7s 230ms/step - loss: 0.0157 - mae: 0.0675\n",
            "Epoch 267/500\n",
            "29/29 [==============================] - 6s 219ms/step - loss: 0.0158 - mae: 0.0675\n",
            "Epoch 268/500\n",
            "29/29 [==============================] - 7s 233ms/step - loss: 0.0158 - mae: 0.0677\n",
            "Epoch 269/500\n",
            "29/29 [==============================] - 6s 217ms/step - loss: 0.0159 - mae: 0.0678\n",
            "Epoch 270/500\n",
            "29/29 [==============================] - 7s 242ms/step - loss: 0.0158 - mae: 0.0677\n",
            "Epoch 271/500\n",
            "29/29 [==============================] - 6s 219ms/step - loss: 0.0158 - mae: 0.0676\n",
            "Epoch 272/500\n",
            "29/29 [==============================] - 7s 233ms/step - loss: 0.0157 - mae: 0.0674\n",
            "Epoch 273/500\n",
            "29/29 [==============================] - 6s 218ms/step - loss: 0.0157 - mae: 0.0673\n",
            "Epoch 274/500\n",
            "29/29 [==============================] - 7s 225ms/step - loss: 0.0158 - mae: 0.0675\n",
            "Epoch 275/500\n",
            "29/29 [==============================] - 6s 217ms/step - loss: 0.0157 - mae: 0.0674\n",
            "Epoch 276/500\n",
            "29/29 [==============================] - 7s 230ms/step - loss: 0.0158 - mae: 0.0677\n",
            "Epoch 277/500\n",
            "29/29 [==============================] - 6s 219ms/step - loss: 0.0157 - mae: 0.0675\n",
            "Epoch 278/500\n",
            "29/29 [==============================] - 7s 231ms/step - loss: 0.0157 - mae: 0.0672\n",
            "Epoch 279/500\n",
            "29/29 [==============================] - 6s 220ms/step - loss: 0.0159 - mae: 0.0680\n",
            "Epoch 280/500\n",
            "29/29 [==============================] - 7s 229ms/step - loss: 0.0159 - mae: 0.0678\n",
            "Epoch 281/500\n",
            "29/29 [==============================] - 6s 220ms/step - loss: 0.0157 - mae: 0.0673\n",
            "Epoch 282/500\n",
            "29/29 [==============================] - 7s 234ms/step - loss: 0.0157 - mae: 0.0673\n",
            "Epoch 283/500\n",
            "29/29 [==============================] - 6s 218ms/step - loss: 0.0157 - mae: 0.0672\n",
            "Epoch 284/500\n",
            "29/29 [==============================] - 7s 231ms/step - loss: 0.0157 - mae: 0.0673\n",
            "Epoch 285/500\n",
            "29/29 [==============================] - 6s 220ms/step - loss: 0.0158 - mae: 0.0676\n",
            "Epoch 286/500\n",
            "29/29 [==============================] - 7s 231ms/step - loss: 0.0157 - mae: 0.0673\n",
            "Epoch 287/500\n",
            "29/29 [==============================] - 6s 218ms/step - loss: 0.0157 - mae: 0.0673\n",
            "Epoch 288/500\n",
            "29/29 [==============================] - 7s 227ms/step - loss: 0.0156 - mae: 0.0670\n",
            "Epoch 289/500\n",
            "29/29 [==============================] - 6s 220ms/step - loss: 0.0156 - mae: 0.0669\n",
            "Epoch 290/500\n",
            "29/29 [==============================] - 7s 234ms/step - loss: 0.0156 - mae: 0.0669\n",
            "Epoch 291/500\n",
            "29/29 [==============================] - 6s 220ms/step - loss: 0.0156 - mae: 0.0670\n",
            "Epoch 292/500\n",
            "29/29 [==============================] - 7s 234ms/step - loss: 0.0156 - mae: 0.0669\n",
            "Epoch 293/500\n",
            "29/29 [==============================] - 6s 218ms/step - loss: 0.0155 - mae: 0.0667\n",
            "Epoch 294/500\n",
            "29/29 [==============================] - 7s 233ms/step - loss: 0.0155 - mae: 0.0667\n",
            "Epoch 295/500\n",
            "29/29 [==============================] - 6s 222ms/step - loss: 0.0155 - mae: 0.0666\n",
            "Epoch 296/500\n",
            "29/29 [==============================] - 7s 226ms/step - loss: 0.0155 - mae: 0.0666\n",
            "Epoch 297/500\n",
            "29/29 [==============================] - 6s 218ms/step - loss: 0.0155 - mae: 0.0666\n",
            "Epoch 298/500\n",
            "29/29 [==============================] - 7s 227ms/step - loss: 0.0155 - mae: 0.0668\n",
            "Epoch 299/500\n",
            "29/29 [==============================] - 6s 221ms/step - loss: 0.0155 - mae: 0.0668\n",
            "Epoch 300/500\n",
            "29/29 [==============================] - 7s 225ms/step - loss: 0.0155 - mae: 0.0668\n",
            "Epoch 301/500\n",
            "29/29 [==============================] - 7s 224ms/step - loss: 0.0155 - mae: 0.0668\n",
            "Epoch 302/500\n",
            "29/29 [==============================] - 7s 225ms/step - loss: 0.0155 - mae: 0.0668\n",
            "Epoch 303/500\n",
            "29/29 [==============================] - 7s 227ms/step - loss: 0.0156 - mae: 0.0670\n",
            "Epoch 304/500\n",
            "29/29 [==============================] - 7s 224ms/step - loss: 0.0155 - mae: 0.0668\n",
            "Epoch 305/500\n",
            "29/29 [==============================] - 7s 226ms/step - loss: 0.0155 - mae: 0.0667\n",
            "Epoch 306/500\n",
            "29/29 [==============================] - 6s 219ms/step - loss: 0.0154 - mae: 0.0665\n",
            "Epoch 307/500\n",
            "29/29 [==============================] - 7s 228ms/step - loss: 0.0154 - mae: 0.0665\n",
            "Epoch 308/500\n",
            "29/29 [==============================] - 6s 220ms/step - loss: 0.0154 - mae: 0.0664\n",
            "Epoch 309/500\n",
            "29/29 [==============================] - 7s 230ms/step - loss: 0.0154 - mae: 0.0664\n",
            "Epoch 310/500\n",
            "29/29 [==============================] - 6s 220ms/step - loss: 0.0154 - mae: 0.0664\n",
            "Epoch 311/500\n",
            "29/29 [==============================] - 7s 231ms/step - loss: 0.0154 - mae: 0.0663\n",
            "Epoch 312/500\n",
            "29/29 [==============================] - 6s 220ms/step - loss: 0.0154 - mae: 0.0664\n",
            "Epoch 313/500\n",
            "29/29 [==============================] - 7s 231ms/step - loss: 0.0156 - mae: 0.0671\n",
            "Epoch 314/500\n",
            "29/29 [==============================] - 6s 221ms/step - loss: 0.0157 - mae: 0.0672\n",
            "Epoch 315/500\n",
            "29/29 [==============================] - 7s 232ms/step - loss: 0.0156 - mae: 0.0669\n",
            "Epoch 316/500\n",
            "29/29 [==============================] - 6s 221ms/step - loss: 0.0155 - mae: 0.0667\n",
            "Epoch 317/500\n",
            "29/29 [==============================] - 7s 233ms/step - loss: 0.0155 - mae: 0.0667\n",
            "Epoch 318/500\n",
            "29/29 [==============================] - 6s 220ms/step - loss: 0.0155 - mae: 0.0666\n",
            "Epoch 319/500\n",
            "29/29 [==============================] - 7s 231ms/step - loss: 0.0154 - mae: 0.0664\n",
            "Epoch 320/500\n",
            "29/29 [==============================] - 6s 218ms/step - loss: 0.0154 - mae: 0.0662\n",
            "Epoch 321/500\n",
            "29/29 [==============================] - 7s 233ms/step - loss: 0.0153 - mae: 0.0661\n",
            "Epoch 322/500\n",
            "29/29 [==============================] - 6s 219ms/step - loss: 0.0153 - mae: 0.0662\n",
            "Epoch 323/500\n",
            "29/29 [==============================] - 7s 231ms/step - loss: 0.0153 - mae: 0.0662\n",
            "Epoch 324/500\n",
            "29/29 [==============================] - 6s 218ms/step - loss: 0.0155 - mae: 0.0667\n",
            "Epoch 325/500\n",
            "29/29 [==============================] - 7s 230ms/step - loss: 0.0155 - mae: 0.0665\n",
            "Epoch 326/500\n",
            "29/29 [==============================] - 6s 219ms/step - loss: 0.0154 - mae: 0.0663\n",
            "Epoch 327/500\n",
            "29/29 [==============================] - 7s 235ms/step - loss: 0.0153 - mae: 0.0660\n",
            "Epoch 328/500\n",
            "29/29 [==============================] - 6s 219ms/step - loss: 0.0153 - mae: 0.0659\n",
            "Epoch 329/500\n",
            "29/29 [==============================] - 7s 236ms/step - loss: 0.0153 - mae: 0.0661\n",
            "Epoch 330/500\n",
            "29/29 [==============================] - 6s 218ms/step - loss: 0.0153 - mae: 0.0659\n",
            "Epoch 331/500\n",
            "29/29 [==============================] - 7s 232ms/step - loss: 0.0152 - mae: 0.0658\n",
            "Epoch 332/500\n",
            "29/29 [==============================] - 6s 219ms/step - loss: 0.0152 - mae: 0.0657\n",
            "Epoch 333/500\n",
            "29/29 [==============================] - 7s 233ms/step - loss: 0.0152 - mae: 0.0657\n",
            "Epoch 334/500\n",
            "29/29 [==============================] - 6s 220ms/step - loss: 0.0154 - mae: 0.0662\n",
            "Epoch 335/500\n",
            "29/29 [==============================] - 7s 241ms/step - loss: 0.0154 - mae: 0.0662\n",
            "Epoch 336/500\n",
            "29/29 [==============================] - 6s 221ms/step - loss: 0.0153 - mae: 0.0660\n",
            "Epoch 337/500\n",
            "29/29 [==============================] - 7s 229ms/step - loss: 0.0153 - mae: 0.0659\n",
            "Epoch 338/500\n",
            "29/29 [==============================] - 6s 220ms/step - loss: 0.0153 - mae: 0.0659\n",
            "Epoch 339/500\n",
            "29/29 [==============================] - 6s 224ms/step - loss: 0.0152 - mae: 0.0658\n",
            "Epoch 340/500\n",
            "29/29 [==============================] - 6s 222ms/step - loss: 0.0152 - mae: 0.0658\n",
            "Epoch 341/500\n",
            "29/29 [==============================] - 7s 228ms/step - loss: 0.0152 - mae: 0.0657\n",
            "Epoch 342/500\n",
            "29/29 [==============================] - 6s 223ms/step - loss: 0.0152 - mae: 0.0656\n",
            "Epoch 343/500\n",
            "29/29 [==============================] - 6s 222ms/step - loss: 0.0152 - mae: 0.0656\n",
            "Epoch 344/500\n",
            "29/29 [==============================] - 7s 225ms/step - loss: 0.0155 - mae: 0.0664\n",
            "Epoch 345/500\n",
            "29/29 [==============================] - 6s 223ms/step - loss: 0.0155 - mae: 0.0665\n",
            "Epoch 346/500\n",
            "29/29 [==============================] - 7s 227ms/step - loss: 0.0154 - mae: 0.0663\n",
            "Epoch 347/500\n",
            "29/29 [==============================] - 6s 221ms/step - loss: 0.0153 - mae: 0.0659\n",
            "Epoch 348/500\n",
            "29/29 [==============================] - 7s 228ms/step - loss: 0.0152 - mae: 0.0656\n",
            "Epoch 349/500\n",
            "29/29 [==============================] - 6s 219ms/step - loss: 0.0151 - mae: 0.0656\n",
            "Epoch 350/500\n",
            "29/29 [==============================] - 7s 229ms/step - loss: 0.0151 - mae: 0.0654\n",
            "Epoch 351/500\n",
            "29/29 [==============================] - 6s 221ms/step - loss: 0.0150 - mae: 0.0653\n",
            "Epoch 352/500\n",
            "29/29 [==============================] - 7s 229ms/step - loss: 0.0151 - mae: 0.0653\n",
            "Epoch 353/500\n",
            "29/29 [==============================] - 6s 219ms/step - loss: 0.0151 - mae: 0.0653\n",
            "Epoch 354/500\n",
            "29/29 [==============================] - 7s 230ms/step - loss: 0.0151 - mae: 0.0655\n",
            "Epoch 355/500\n",
            "29/29 [==============================] - 6s 219ms/step - loss: 0.0152 - mae: 0.0656\n",
            "Epoch 356/500\n",
            "29/29 [==============================] - 7s 234ms/step - loss: 0.0151 - mae: 0.0655\n",
            "Epoch 357/500\n",
            "29/29 [==============================] - 6s 219ms/step - loss: 0.0151 - mae: 0.0655\n",
            "Epoch 358/500\n",
            "29/29 [==============================] - 7s 229ms/step - loss: 0.0151 - mae: 0.0654\n",
            "Epoch 359/500\n",
            "29/29 [==============================] - 6s 219ms/step - loss: 0.0151 - mae: 0.0655\n",
            "Epoch 360/500\n",
            "29/29 [==============================] - 7s 231ms/step - loss: 0.0155 - mae: 0.0667\n",
            "Epoch 361/500\n",
            "29/29 [==============================] - 6s 218ms/step - loss: 0.0153 - mae: 0.0660\n",
            "Epoch 362/500\n",
            "29/29 [==============================] - 7s 235ms/step - loss: 0.0154 - mae: 0.0662\n",
            "Epoch 363/500\n",
            "29/29 [==============================] - 6s 219ms/step - loss: 0.0154 - mae: 0.0663\n",
            "Epoch 364/500\n",
            "29/29 [==============================] - 7s 226ms/step - loss: 0.0153 - mae: 0.0660\n",
            "Epoch 365/500\n",
            "29/29 [==============================] - 6s 216ms/step - loss: 0.0152 - mae: 0.0658\n",
            "Epoch 366/500\n",
            "29/29 [==============================] - 7s 230ms/step - loss: 0.0151 - mae: 0.0655\n",
            "Epoch 367/500\n",
            "29/29 [==============================] - 6s 218ms/step - loss: 0.0150 - mae: 0.0651\n",
            "Epoch 368/500\n",
            "29/29 [==============================] - 7s 231ms/step - loss: 0.0149 - mae: 0.0649\n",
            "Epoch 369/500\n",
            "29/29 [==============================] - 6s 220ms/step - loss: 0.0150 - mae: 0.0650\n",
            "Epoch 370/500\n",
            "29/29 [==============================] - 7s 233ms/step - loss: 0.0149 - mae: 0.0649\n",
            "Epoch 371/500\n",
            "29/29 [==============================] - 6s 218ms/step - loss: 0.0150 - mae: 0.0649\n",
            "Epoch 372/500\n",
            "29/29 [==============================] - 7s 231ms/step - loss: 0.0150 - mae: 0.0650\n",
            "Epoch 373/500\n",
            "29/29 [==============================] - 6s 218ms/step - loss: 0.0150 - mae: 0.0650\n",
            "Epoch 374/500\n",
            "29/29 [==============================] - 7s 228ms/step - loss: 0.0150 - mae: 0.0650\n",
            "Epoch 375/500\n",
            "29/29 [==============================] - 6s 221ms/step - loss: 0.0152 - mae: 0.0655\n",
            "Epoch 376/500\n",
            "29/29 [==============================] - 7s 227ms/step - loss: 0.0151 - mae: 0.0653\n",
            "Epoch 377/500\n",
            "29/29 [==============================] - 6s 221ms/step - loss: 0.0150 - mae: 0.0650\n",
            "Epoch 378/500\n",
            "29/29 [==============================] - 7s 225ms/step - loss: 0.0150 - mae: 0.0651\n",
            "Epoch 379/500\n",
            "29/29 [==============================] - 7s 224ms/step - loss: 0.0150 - mae: 0.0649\n",
            "Epoch 380/500\n",
            "29/29 [==============================] - 6s 222ms/step - loss: 0.0150 - mae: 0.0652\n",
            "Epoch 381/500\n",
            "29/29 [==============================] - 6s 221ms/step - loss: 0.0150 - mae: 0.0652\n",
            "Epoch 382/500\n",
            "29/29 [==============================] - 6s 222ms/step - loss: 0.0152 - mae: 0.0655\n",
            "Epoch 383/500\n",
            "29/29 [==============================] - 7s 229ms/step - loss: 0.0150 - mae: 0.0652\n",
            "Epoch 384/500\n",
            "29/29 [==============================] - 6s 222ms/step - loss: 0.0151 - mae: 0.0654\n",
            "Epoch 385/500\n",
            "29/29 [==============================] - 7s 229ms/step - loss: 0.0151 - mae: 0.0652\n",
            "Epoch 386/500\n",
            "29/29 [==============================] - 7s 225ms/step - loss: 0.0150 - mae: 0.0652\n",
            "Epoch 387/500\n",
            "29/29 [==============================] - 7s 231ms/step - loss: 0.0150 - mae: 0.0651\n",
            "Epoch 388/500\n",
            "29/29 [==============================] - 6s 222ms/step - loss: 0.0151 - mae: 0.0653\n",
            "Epoch 389/500\n",
            "29/29 [==============================] - 7s 233ms/step - loss: 0.0151 - mae: 0.0655\n",
            "Epoch 390/500\n",
            "29/29 [==============================] - 6s 221ms/step - loss: 0.0150 - mae: 0.0652\n",
            "Epoch 391/500\n",
            "29/29 [==============================] - 7s 232ms/step - loss: 0.0150 - mae: 0.0649\n",
            "Epoch 392/500\n",
            "29/29 [==============================] - 7s 230ms/step - loss: 0.0149 - mae: 0.0649\n",
            "Epoch 393/500\n",
            "29/29 [==============================] - 7s 230ms/step - loss: 0.0149 - mae: 0.0647\n",
            "Epoch 394/500\n",
            "29/29 [==============================] - 6s 220ms/step - loss: 0.0149 - mae: 0.0647\n",
            "Epoch 395/500\n",
            "29/29 [==============================] - 7s 232ms/step - loss: 0.0149 - mae: 0.0646\n",
            "Epoch 396/500\n",
            "29/29 [==============================] - 6s 218ms/step - loss: 0.0149 - mae: 0.0646\n",
            "Epoch 397/500\n",
            "29/29 [==============================] - 7s 229ms/step - loss: 0.0149 - mae: 0.0647\n",
            "Epoch 398/500\n",
            "29/29 [==============================] - 6s 222ms/step - loss: 0.0149 - mae: 0.0646\n",
            "Epoch 399/500\n",
            "29/29 [==============================] - 7s 234ms/step - loss: 0.0148 - mae: 0.0645\n",
            "Epoch 400/500\n",
            "29/29 [==============================] - 6s 218ms/step - loss: 0.0148 - mae: 0.0645\n",
            "Epoch 401/500\n",
            "29/29 [==============================] - 7s 230ms/step - loss: 0.0149 - mae: 0.0646\n",
            "Epoch 402/500\n",
            "29/29 [==============================] - 7s 231ms/step - loss: 0.0153 - mae: 0.0659\n",
            "Epoch 403/500\n",
            "29/29 [==============================] - 7s 231ms/step - loss: 0.0151 - mae: 0.0654\n",
            "Epoch 404/500\n",
            "29/29 [==============================] - 6s 219ms/step - loss: 0.0150 - mae: 0.0649\n",
            "Epoch 405/500\n",
            "29/29 [==============================] - 7s 237ms/step - loss: 0.0149 - mae: 0.0647\n",
            "Epoch 406/500\n",
            "29/29 [==============================] - 6s 219ms/step - loss: 0.0148 - mae: 0.0646\n",
            "Epoch 407/500\n",
            "29/29 [==============================] - 7s 235ms/step - loss: 0.0148 - mae: 0.0645\n",
            "Epoch 408/500\n",
            "29/29 [==============================] - 6s 218ms/step - loss: 0.0148 - mae: 0.0644\n",
            "Epoch 409/500\n",
            "29/29 [==============================] - 7s 238ms/step - loss: 0.0148 - mae: 0.0645\n",
            "Epoch 410/500\n",
            "29/29 [==============================] - 6s 219ms/step - loss: 0.0148 - mae: 0.0645\n",
            "Epoch 411/500\n",
            "29/29 [==============================] - 7s 230ms/step - loss: 0.0148 - mae: 0.0644\n",
            "Epoch 412/500\n",
            "29/29 [==============================] - 6s 221ms/step - loss: 0.0149 - mae: 0.0647\n",
            "Epoch 413/500\n",
            "29/29 [==============================] - 7s 240ms/step - loss: 0.0149 - mae: 0.0648\n",
            "Epoch 414/500\n",
            "29/29 [==============================] - 7s 223ms/step - loss: 0.0149 - mae: 0.0648\n",
            "Epoch 415/500\n",
            "29/29 [==============================] - 7s 230ms/step - loss: 0.0149 - mae: 0.0647\n",
            "Epoch 416/500\n",
            "29/29 [==============================] - 6s 222ms/step - loss: 0.0149 - mae: 0.0648\n",
            "Epoch 417/500\n",
            "29/29 [==============================] - 7s 225ms/step - loss: 0.0149 - mae: 0.0649\n",
            "Epoch 418/500\n",
            "29/29 [==============================] - 7s 227ms/step - loss: 0.0149 - mae: 0.0646\n",
            "Epoch 419/500\n",
            "29/29 [==============================] - 7s 227ms/step - loss: 0.0149 - mae: 0.0646\n",
            "Epoch 420/500\n",
            "29/29 [==============================] - 6s 220ms/step - loss: 0.0149 - mae: 0.0646\n",
            "Epoch 421/500\n",
            "29/29 [==============================] - 7s 226ms/step - loss: 0.0148 - mae: 0.0645\n",
            "Epoch 422/500\n",
            "29/29 [==============================] - 7s 226ms/step - loss: 0.0148 - mae: 0.0644\n",
            "Epoch 423/500\n",
            "29/29 [==============================] - 6s 223ms/step - loss: 0.0148 - mae: 0.0643\n",
            "Epoch 424/500\n",
            "29/29 [==============================] - 7s 227ms/step - loss: 0.0147 - mae: 0.0642\n",
            "Epoch 425/500\n",
            "29/29 [==============================] - 6s 220ms/step - loss: 0.0148 - mae: 0.0643\n",
            "Epoch 426/500\n",
            "29/29 [==============================] - 7s 229ms/step - loss: 0.0149 - mae: 0.0646\n",
            "Epoch 427/500\n",
            "29/29 [==============================] - 6s 220ms/step - loss: 0.0148 - mae: 0.0645\n",
            "Epoch 428/500\n",
            "29/29 [==============================] - 7s 233ms/step - loss: 0.0149 - mae: 0.0646\n",
            "Epoch 429/500\n",
            "29/29 [==============================] - 6s 219ms/step - loss: 0.0149 - mae: 0.0648\n",
            "Epoch 430/500\n",
            "29/29 [==============================] - 7s 242ms/step - loss: 0.0152 - mae: 0.0655\n",
            "Epoch 431/500\n",
            "29/29 [==============================] - 6s 221ms/step - loss: 0.0151 - mae: 0.0652\n",
            "Epoch 432/500\n",
            "29/29 [==============================] - 7s 233ms/step - loss: 0.0151 - mae: 0.0654\n",
            "Epoch 433/500\n",
            "29/29 [==============================] - 6s 222ms/step - loss: 0.0150 - mae: 0.0650\n",
            "Epoch 434/500\n",
            "29/29 [==============================] - 7s 228ms/step - loss: 0.0149 - mae: 0.0646\n",
            "Epoch 435/500\n",
            "29/29 [==============================] - 6s 221ms/step - loss: 0.0148 - mae: 0.0644\n",
            "Epoch 436/500\n",
            "29/29 [==============================] - 7s 235ms/step - loss: 0.0147 - mae: 0.0642\n",
            "Epoch 437/500\n",
            "29/29 [==============================] - 6s 221ms/step - loss: 0.0147 - mae: 0.0641\n",
            "Epoch 438/500\n",
            "29/29 [==============================] - 7s 234ms/step - loss: 0.0147 - mae: 0.0642\n",
            "Epoch 439/500\n",
            "29/29 [==============================] - 6s 222ms/step - loss: 0.0147 - mae: 0.0640\n",
            "Epoch 440/500\n",
            "29/29 [==============================] - 7s 230ms/step - loss: 0.0147 - mae: 0.0641\n",
            "Epoch 441/500\n",
            "29/29 [==============================] - 6s 219ms/step - loss: 0.0147 - mae: 0.0642\n",
            "Epoch 442/500\n",
            "29/29 [==============================] - 7s 234ms/step - loss: 0.0148 - mae: 0.0643\n",
            "Epoch 443/500\n",
            "29/29 [==============================] - 6s 220ms/step - loss: 0.0148 - mae: 0.0643\n",
            "Epoch 444/500\n",
            "29/29 [==============================] - 7s 233ms/step - loss: 0.0147 - mae: 0.0642\n",
            "Epoch 445/500\n",
            "29/29 [==============================] - 6s 222ms/step - loss: 0.0147 - mae: 0.0640\n",
            "Epoch 446/500\n",
            "29/29 [==============================] - 7s 231ms/step - loss: 0.0146 - mae: 0.0639\n",
            "Epoch 447/500\n",
            "29/29 [==============================] - 6s 221ms/step - loss: 0.0147 - mae: 0.0640\n",
            "Epoch 448/500\n",
            "29/29 [==============================] - 7s 230ms/step - loss: 0.0147 - mae: 0.0641\n",
            "Epoch 449/500\n",
            "29/29 [==============================] - 6s 223ms/step - loss: 0.0147 - mae: 0.0641\n",
            "Epoch 450/500\n",
            "29/29 [==============================] - 7s 232ms/step - loss: 0.0147 - mae: 0.0642\n",
            "Epoch 451/500\n",
            "29/29 [==============================] - 6s 220ms/step - loss: 0.0147 - mae: 0.0642\n",
            "Epoch 452/500\n",
            "29/29 [==============================] - 7s 229ms/step - loss: 0.0149 - mae: 0.0646\n",
            "Epoch 453/500\n",
            "29/29 [==============================] - 6s 220ms/step - loss: 0.0149 - mae: 0.0646\n",
            "Epoch 454/500\n",
            "29/29 [==============================] - 7s 231ms/step - loss: 0.0148 - mae: 0.0643\n",
            "Epoch 455/500\n",
            "29/29 [==============================] - 6s 220ms/step - loss: 0.0148 - mae: 0.0643\n",
            "Epoch 456/500\n",
            "29/29 [==============================] - 7s 230ms/step - loss: 0.0147 - mae: 0.0642\n",
            "Epoch 457/500\n",
            "29/29 [==============================] - 6s 220ms/step - loss: 0.0147 - mae: 0.0641\n",
            "Epoch 458/500\n",
            "29/29 [==============================] - 7s 231ms/step - loss: 0.0147 - mae: 0.0641\n",
            "Epoch 459/500\n",
            "29/29 [==============================] - 7s 224ms/step - loss: 0.0147 - mae: 0.0642\n",
            "Epoch 460/500\n",
            "29/29 [==============================] - 7s 230ms/step - loss: 0.0150 - mae: 0.0649\n",
            "Epoch 461/500\n",
            "29/29 [==============================] - 6s 222ms/step - loss: 0.0149 - mae: 0.0645\n",
            "Epoch 462/500\n",
            "29/29 [==============================] - 6s 222ms/step - loss: 0.0147 - mae: 0.0641\n",
            "Epoch 463/500\n",
            "29/29 [==============================] - 7s 226ms/step - loss: 0.0147 - mae: 0.0640\n",
            "Epoch 464/500\n",
            "29/29 [==============================] - 7s 224ms/step - loss: 0.0146 - mae: 0.0638\n",
            "Epoch 465/500\n",
            "29/29 [==============================] - 7s 229ms/step - loss: 0.0146 - mae: 0.0637\n",
            "Epoch 466/500\n",
            "29/29 [==============================] - 6s 222ms/step - loss: 0.0146 - mae: 0.0638\n",
            "Epoch 467/500\n",
            "29/29 [==============================] - 7s 228ms/step - loss: 0.0147 - mae: 0.0640\n",
            "Epoch 468/500\n",
            "29/29 [==============================] - 6s 223ms/step - loss: 0.0147 - mae: 0.0640\n",
            "Epoch 469/500\n",
            "29/29 [==============================] - 7s 232ms/step - loss: 0.0147 - mae: 0.0640\n",
            "Epoch 470/500\n",
            "29/29 [==============================] - 6s 224ms/step - loss: 0.0148 - mae: 0.0644\n",
            "Epoch 471/500\n",
            "29/29 [==============================] - 7s 233ms/step - loss: 0.0147 - mae: 0.0642\n",
            "Epoch 472/500\n",
            "29/29 [==============================] - 6s 222ms/step - loss: 0.0147 - mae: 0.0642\n",
            "Epoch 473/500\n",
            "29/29 [==============================] - 7s 231ms/step - loss: 0.0147 - mae: 0.0641\n",
            "Epoch 474/500\n",
            "29/29 [==============================] - 6s 220ms/step - loss: 0.0147 - mae: 0.0640\n",
            "Epoch 475/500\n",
            "29/29 [==============================] - 7s 233ms/step - loss: 0.0147 - mae: 0.0639\n",
            "Epoch 476/500\n",
            "29/29 [==============================] - 6s 221ms/step - loss: 0.0147 - mae: 0.0640\n",
            "Epoch 477/500\n",
            "29/29 [==============================] - 7s 233ms/step - loss: 0.0146 - mae: 0.0639\n",
            "Epoch 478/500\n",
            "29/29 [==============================] - 6s 223ms/step - loss: 0.0146 - mae: 0.0639\n",
            "Epoch 479/500\n",
            "29/29 [==============================] - 7s 237ms/step - loss: 0.0146 - mae: 0.0637\n",
            "Epoch 480/500\n",
            "29/29 [==============================] - 6s 220ms/step - loss: 0.0146 - mae: 0.0637\n",
            "Epoch 481/500\n",
            "29/29 [==============================] - 7s 235ms/step - loss: 0.0146 - mae: 0.0637\n",
            "Epoch 482/500\n",
            "29/29 [==============================] - 6s 223ms/step - loss: 0.0146 - mae: 0.0639\n",
            "Epoch 483/500\n",
            "29/29 [==============================] - 7s 232ms/step - loss: 0.0146 - mae: 0.0639\n",
            "Epoch 484/500\n",
            "29/29 [==============================] - 6s 216ms/step - loss: 0.0147 - mae: 0.0641\n",
            "Epoch 485/500\n",
            "29/29 [==============================] - 7s 236ms/step - loss: 0.0150 - mae: 0.0650\n",
            "Epoch 486/500\n",
            "29/29 [==============================] - 6s 222ms/step - loss: 0.0149 - mae: 0.0646\n",
            "Epoch 487/500\n",
            "29/29 [==============================] - 7s 236ms/step - loss: 0.0147 - mae: 0.0641\n",
            "Epoch 488/500\n",
            "29/29 [==============================] - 6s 217ms/step - loss: 0.0147 - mae: 0.0640\n",
            "Epoch 489/500\n",
            "29/29 [==============================] - 7s 233ms/step - loss: 0.0146 - mae: 0.0638\n",
            "Epoch 490/500\n",
            "29/29 [==============================] - 6s 220ms/step - loss: 0.0146 - mae: 0.0637\n",
            "Epoch 491/500\n",
            "29/29 [==============================] - 7s 236ms/step - loss: 0.0146 - mae: 0.0637\n",
            "Epoch 492/500\n",
            "29/29 [==============================] - 6s 219ms/step - loss: 0.0146 - mae: 0.0637\n",
            "Epoch 493/500\n",
            "29/29 [==============================] - 7s 235ms/step - loss: 0.0146 - mae: 0.0637\n",
            "Epoch 494/500\n",
            "29/29 [==============================] - 7s 230ms/step - loss: 0.0148 - mae: 0.0643\n",
            "Epoch 495/500\n",
            "29/29 [==============================] - 7s 233ms/step - loss: 0.0147 - mae: 0.0640\n",
            "Epoch 496/500\n",
            "29/29 [==============================] - 6s 220ms/step - loss: 0.0146 - mae: 0.0638\n",
            "Epoch 497/500\n",
            "29/29 [==============================] - 7s 236ms/step - loss: 0.0145 - mae: 0.0636\n",
            "Epoch 498/500\n",
            "29/29 [==============================] - 6s 221ms/step - loss: 0.0147 - mae: 0.0642\n",
            "Epoch 499/500\n",
            "29/29 [==============================] - 7s 233ms/step - loss: 0.0147 - mae: 0.0640\n",
            "Epoch 500/500\n",
            "29/29 [==============================] - 6s 220ms/step - loss: 0.0147 - mae: 0.0640\n"
          ]
        }
      ]
    },
    {
      "cell_type": "code",
      "source": [
        "np.save('AE_history.npy',history.history)"
      ],
      "metadata": {
        "id": "i4SdEjyujvae"
      },
      "execution_count": null,
      "outputs": []
    },
    {
      "cell_type": "code",
      "source": [
        "history=np.load('AE_history.npy',allow_pickle='TRUE').item()"
      ],
      "metadata": {
        "id": "Q_cA6g0oj7_V"
      },
      "execution_count": null,
      "outputs": []
    },
    {
      "cell_type": "code",
      "source": [
        "plt.figure(figsize=(12, 6))\n",
        "plt.plot(history['loss'])\n",
        "plt.show()"
      ],
      "metadata": {
        "colab": {
          "base_uri": "https://localhost:8080/",
          "height": 374
        },
        "id": "42GrBVCQc19R",
        "outputId": "78f0d605-bc2d-4aa4-ac68-2d97ef41bddc"
      },
      "execution_count": null,
      "outputs": [
        {
          "output_type": "display_data",
          "data": {
            "text/plain": [
              "<Figure size 864x432 with 1 Axes>"
            ],
            "image/png": "[encoded data removed]"
          },
          "metadata": {
            "needs_background": "light"
          }
        }
      ]
    },
    {
      "cell_type": "code",
      "source": [
        "plt.figure(figsize=(12, 6))\n",
        "plt.plot(history['mae'], color='red')\n",
        "plt.show()"
      ],
      "metadata": {
        "colab": {
          "base_uri": "https://localhost:8080/",
          "height": 374
        },
        "id": "xfUxeSfJdXF6",
        "outputId": "3cf6a444-da21-4701-9028-e8d61b411034"
      },
      "execution_count": null,
      "outputs": [
        {
          "output_type": "display_data",
          "data": {
            "text/plain": [
              "<Figure size 864x432 with 1 Axes>"
            ],
            "image/png": "[encoded data removed]"
          },
          "metadata": {
            "needs_background": "light"
          }
        }
      ]
    },
    {
      "cell_type": "code",
      "source": [
        "# encoder.compile(optimizer=optimizer, loss=losses.BinaryCrossentropy())\n",
        "# decoder.compile(optimizer=optimizer, loss=losses.BinaryCrossentropy())\n",
        "encoder.save(\"drive/MyDrive/GTZAN/vgg_enc_final_h5\", save_format='h5')\n",
        "decoder.save(\"drive/MyDrive/GTZAN/vgg_dec_final_h5\", save_format='h5')"
      ],
      "metadata": {
        "id": "Iku4vzuNoTOG",
        "colab": {
          "base_uri": "https://localhost:8080/"
        },
        "outputId": "c00f9aaa-17e5-4960-cfec-920d6bbf74d2"
      },
      "execution_count": null,
      "outputs": [
        {
          "output_type": "stream",
          "name": "stderr",
          "text": [
            "WARNING:tensorflow:Compiled the loaded model, but the compiled metrics have yet to be built. `model.compile_metrics` will be empty until you train or evaluate the model.\n",
            "WARNING:tensorflow:Compiled the loaded model, but the compiled metrics have yet to be built. `model.compile_metrics` will be empty until you train or evaluate the model.\n"
          ]
        }
      ]
    },
    {
      "cell_type": "code",
      "source": [
        "autoenc.evaluate(x=test_tensor, y=test_tensor)"
      ],
      "metadata": {
        "colab": {
          "base_uri": "https://localhost:8080/"
        },
        "id": "zaMoO2U6dz81",
        "outputId": "bcc1cc0f-a564-42af-acde-0d4c88c36376"
      },
      "execution_count": null,
      "outputs": [
        {
          "output_type": "stream",
          "name": "stdout",
          "text": [
            "4/4 [==============================] - 1s 141ms/step - loss: 0.0216 - mae: 0.0812\n"
          ]
        },
        {
          "output_type": "execute_result",
          "data": {
            "text/plain": [
              "[0.021570170298218727, 0.08122038841247559]"
            ]
          },
          "metadata": {},
          "execution_count": 34
        }
      ]
    },
    {
      "cell_type": "code",
      "source": [],
      "metadata": {
        "id": "Us1_c8MCeGMj"
      },
      "execution_count": null,
      "outputs": []
    }
  ]
}